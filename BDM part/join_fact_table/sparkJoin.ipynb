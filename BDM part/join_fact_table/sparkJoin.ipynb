{
 "cells": [
  {
   "cell_type": "markdown",
   "id": "45e4addd-cc96-4bf5-b43b-5eab9faaff6d",
   "metadata": {},
   "source": [
    "# Data Integration by PySpark"
   ]
  },
  {
   "cell_type": "code",
   "execution_count": 1,
   "id": "b7b216c1-eac0-4197-aed9-3e738bfc45c1",
   "metadata": {},
   "outputs": [],
   "source": [
    "from pyspark.sql import SparkSession"
   ]
  },
  {
   "cell_type": "code",
   "execution_count": 9,
   "id": "c0da3ca8-b332-4cc0-937c-a96f68cdd999",
   "metadata": {},
   "outputs": [],
   "source": [
    "spark = SparkSession.builder \\\n",
    "    .appName(\"Data Merge\") \\\n",
    "    .getOrCreate()"
   ]
  },
  {
   "cell_type": "code",
   "execution_count": 10,
   "id": "ec419191-8d9a-4561-9886-533229cad4d7",
   "metadata": {
    "scrolled": true
   },
   "outputs": [
    {
     "name": "stdout",
     "output_type": "stream",
     "text": [
      "+------+------+----------+------------+-------------------+----------------+-----------+--------+--------+--------------+-------------------+\n",
      "|postID|userID|activityID|        page|          timestamp|recommendationID|nearPlaceID| placeID| eventID|engagementType|          timestamp|\n",
      "+------+------+----------+------------+-------------------+----------------+-----------+--------+--------+--------------+-------------------+\n",
      "|   469|user20|   Comment|Profile Page|2024-05-01 00:06:00|           rec63|       NULL|    NULL|    NULL|          NULL|               NULL|\n",
      "|   365|user20|   Comment|Profile Page|2024-05-01 00:06:00|           rec75|      np133|place129|    NULL|          NULL|               NULL|\n",
      "|   365|user20|   Comment|Profile Page|2024-05-01 00:06:00|           rec75|        np7| place72|    NULL|          NULL|               NULL|\n",
      "|   365|user20|   Comment|Profile Page|2024-05-01 00:06:00|           rec75|      np181|place182|    NULL|          NULL|               NULL|\n",
      "|   365|user20|   Comment|Profile Page|2024-05-01 00:06:00|           rec75|       np62| place90|    NULL|          NULL|               NULL|\n",
      "|   124|user20|   Comment|Profile Page|2024-05-01 00:06:00|           rec87|      np357| place50|    NULL|          NULL|               NULL|\n",
      "|   124|user20|   Comment|Profile Page|2024-05-01 00:06:00|           rec87|      np153|place171|    NULL|          NULL|               NULL|\n",
      "|   355|user20|   Comment|Profile Page|2024-05-01 00:06:00|           rec31|       NULL|    NULL|    NULL|          NULL|               NULL|\n",
      "|   105|user20|   Comment|Profile Page|2024-05-01 00:06:00|           rec25|      np280|place191|event435|         Share|2024-05-20 06:31:02|\n",
      "|   144|user20|   Comment|Profile Page|2024-05-01 00:06:00|           rec44|       NULL|    NULL|    NULL|          NULL|               NULL|\n",
      "|   136|user20|   Comment|Profile Page|2024-05-01 00:06:00|           rec43|       NULL|    NULL|event299|          Like|2024-05-17 17:51:13|\n",
      "|   136|user20|   Comment|Profile Page|2024-05-01 00:06:00|           rec43|       NULL|    NULL|event339|          Like|2024-05-14 14:48:54|\n",
      "|   297|user20|   Comment|Profile Page|2024-05-01 00:06:00|           rec90|       np25|place125|    NULL|          NULL|               NULL|\n",
      "|   297|user20|   Comment|Profile Page|2024-05-01 00:06:00|           rec90|       np61|place192|    NULL|          NULL|               NULL|\n",
      "|   368|user20|   Comment|Profile Page|2024-05-01 00:06:00|           rec63|      np385| place43|    NULL|          NULL|               NULL|\n",
      "|   368|user20|   Comment|Profile Page|2024-05-01 00:06:00|           rec63|       np76|  place5|    NULL|          NULL|               NULL|\n",
      "|   377|user20|   Comment|Profile Page|2024-05-01 00:06:00|           rec48|       np69|place133|    NULL|          NULL|               NULL|\n",
      "|   254|user20|   Comment|Profile Page|2024-05-01 00:06:00|            rec8|      np373|  place2|    NULL|          NULL|               NULL|\n",
      "|   254|user20|   Comment|Profile Page|2024-05-01 00:06:00|            rec8|       np71|place165|    NULL|          NULL|               NULL|\n",
      "|   489|user20|   Comment|Profile Page|2024-05-01 00:06:00|           rec26|      np358| place32|    NULL|          NULL|               NULL|\n",
      "+------+------+----------+------------+-------------------+----------------+-----------+--------+--------+--------------+-------------------+\n",
      "only showing top 20 rows\n",
      "\n"
     ]
    }
   ],
   "source": [
    "merged_df1 = user_activity_df.join(recommendation_df, on='userID', how='left')\n",
    "merged_df2 = merged_df1.join(nearby_place_df, on='postID', how='left')\n",
    "final_df = merged_df2.join(engagement_type_df, (merged_df2.userID == engagement_type_df.userID) & (merged_df2.postID == engagement_type_df.postID), how='left')\n",
    "\n",
    "final_df = final_df.drop(engagement_type_df.userID).drop(engagement_type_df.postID)\n",
    "final_df.show()"
   ]
  },
  {
   "cell_type": "code",
   "execution_count": 15,
   "id": "09cd904e-a1b0-48ea-886d-ebd2102be39b",
   "metadata": {},
   "outputs": [],
   "source": [
    "user_activity_df = spark.read.csv('user_activity_data.csv', header=True, inferSchema=True) \\\n",
    "    .withColumnRenamed(\"timestamp\", \"user_activity_timestamp\")\n",
    "recommendation_df = spark.read.csv('recommendation_data.csv', header=True, inferSchema=True)\n",
    "nearby_place_df = spark.read.csv('nearby_place_data.csv', header=True, inferSchema=True)\n",
    "engagement_type_df = spark.read.csv('engagementType_data.csv', header=True, inferSchema=True) \\\n",
    "    .withColumnRenamed(\"timestamp\", \"engagement_timestamp\")"
   ]
  },
  {
   "cell_type": "code",
   "execution_count": 16,
   "id": "154e71c9-9a90-4363-b288-a6ff27b6ce2f",
   "metadata": {},
   "outputs": [],
   "source": [
    "merged_df1 = user_activity_df.join(recommendation_df, on='userID', how='left')\n",
    "\n",
    "merged_df2 = merged_df1.join(nearby_place_df, on='postID', how='left')\n",
    "\n",
    "final_df = merged_df2.join(engagement_type_df, \n",
    "                           (merged_df2.userID == engagement_type_df.userID) & \n",
    "                           (merged_df2.postID == engagement_type_df.postID), \n",
    "                           how='left')\n",
    "\n",
    "final_df = final_df.drop(engagement_type_df.userID).drop(engagement_type_df.postID)"
   ]
  },
  {
   "cell_type": "code",
   "execution_count": 17,
   "id": "ef270f02-e9b6-42c4-aca7-b011f36b6c13",
   "metadata": {},
   "outputs": [],
   "source": [
    "output_path = 'merged_data.csv'\n",
    "final_df.write.csv(output_path, header=True, mode='overwrite')"
   ]
  },
  {
   "cell_type": "code",
   "execution_count": null,
   "id": "88d90a88-185a-4596-b411-b3bedf25aece",
   "metadata": {},
   "outputs": [],
   "source": []
  },
  {
   "cell_type": "code",
   "execution_count": 19,
   "id": "73c1ea0f-7e02-4224-a899-ead07a484fdc",
   "metadata": {},
   "outputs": [],
   "source": [
    "from pyspark.sql.functions import col, count, to_date"
   ]
  },
  {
   "cell_type": "code",
   "execution_count": 23,
   "id": "1e57a7c2-a6f1-438e-8811-c0cc2309af0c",
   "metadata": {},
   "outputs": [],
   "source": [
    "from pyspark.sql.functions import col, isnan, when, count"
   ]
  },
  {
   "cell_type": "code",
   "execution_count": 24,
   "id": "d6690ca9-20e2-4fd7-a400-770fe4dcd92c",
   "metadata": {},
   "outputs": [],
   "source": [
    "spark = SparkSession.builder \\\n",
    "    .appName(\"Inspect Missing Values\") \\\n",
    "    .getOrCreate()"
   ]
  },
  {
   "cell_type": "code",
   "execution_count": 26,
   "id": "6beb942f-39a3-4d31-8ee3-bc8dbb1b9a0f",
   "metadata": {},
   "outputs": [
    {
     "name": "stdout",
     "output_type": "stream",
     "text": [
      "+------+------+----------+----+-----------------------+----------------+-----------+-------+-------+--------------+--------------------+\n",
      "|postID|userID|activityID|page|user_activity_timestamp|recommendationID|nearPlaceID|placeID|eventID|engagementType|engagement_timestamp|\n",
      "+------+------+----------+----+-----------------------+----------------+-----------+-------+-------+--------------+--------------------+\n",
      "|     0|     0|         0|   0|                      0|               0|       3234|   3234|  19089|         19089|               19089|\n",
      "+------+------+----------+----+-----------------------+----------------+-----------+-------+-------+--------------+--------------------+\n",
      "\n",
      "root\n",
      " |-- postID: integer (nullable = true)\n",
      " |-- userID: string (nullable = true)\n",
      " |-- activityID: string (nullable = true)\n",
      " |-- page: string (nullable = true)\n",
      " |-- user_activity_timestamp: timestamp (nullable = true)\n",
      " |-- recommendationID: string (nullable = true)\n",
      " |-- nearPlaceID: string (nullable = true)\n",
      " |-- placeID: string (nullable = true)\n",
      " |-- eventID: string (nullable = true)\n",
      " |-- engagementType: string (nullable = true)\n",
      " |-- engagement_timestamp: timestamp (nullable = true)\n",
      "\n",
      "+------+------+----------+------------+-----------------------+----------------+-----------+--------+--------+--------------+--------------------+\n",
      "|postID|userID|activityID|        page|user_activity_timestamp|recommendationID|nearPlaceID| placeID| eventID|engagementType|engagement_timestamp|\n",
      "+------+------+----------+------------+-----------------------+----------------+-----------+--------+--------+--------------+--------------------+\n",
      "|   469|user20|   Comment|Profile Page|    2024-05-01 00:06:00|           rec63|       NULL|    NULL|    NULL|          NULL|                NULL|\n",
      "|   365|user20|   Comment|Profile Page|    2024-05-01 00:06:00|           rec75|      np133|place129|    NULL|          NULL|                NULL|\n",
      "|   365|user20|   Comment|Profile Page|    2024-05-01 00:06:00|           rec75|        np7| place72|    NULL|          NULL|                NULL|\n",
      "|   365|user20|   Comment|Profile Page|    2024-05-01 00:06:00|           rec75|      np181|place182|    NULL|          NULL|                NULL|\n",
      "|   365|user20|   Comment|Profile Page|    2024-05-01 00:06:00|           rec75|       np62| place90|    NULL|          NULL|                NULL|\n",
      "|   124|user20|   Comment|Profile Page|    2024-05-01 00:06:00|           rec87|      np357| place50|    NULL|          NULL|                NULL|\n",
      "|   124|user20|   Comment|Profile Page|    2024-05-01 00:06:00|           rec87|      np153|place171|    NULL|          NULL|                NULL|\n",
      "|   355|user20|   Comment|Profile Page|    2024-05-01 00:06:00|           rec31|       NULL|    NULL|    NULL|          NULL|                NULL|\n",
      "|   144|user20|   Comment|Profile Page|    2024-05-01 00:06:00|           rec44|       NULL|    NULL|    NULL|          NULL|                NULL|\n",
      "|   136|user20|   Comment|Profile Page|    2024-05-01 00:06:00|           rec43|       NULL|    NULL|event299|          Like| 2024-05-17 17:51:13|\n",
      "|   136|user20|   Comment|Profile Page|    2024-05-01 00:06:00|           rec43|       NULL|    NULL|event339|          Like| 2024-05-14 14:48:54|\n",
      "|   297|user20|   Comment|Profile Page|    2024-05-01 00:06:00|           rec90|       np25|place125|    NULL|          NULL|                NULL|\n",
      "|   297|user20|   Comment|Profile Page|    2024-05-01 00:06:00|           rec90|       np61|place192|    NULL|          NULL|                NULL|\n",
      "|   368|user20|   Comment|Profile Page|    2024-05-01 00:06:00|           rec63|      np385| place43|    NULL|          NULL|                NULL|\n",
      "|   368|user20|   Comment|Profile Page|    2024-05-01 00:06:00|           rec63|       np76|  place5|    NULL|          NULL|                NULL|\n",
      "|   377|user20|   Comment|Profile Page|    2024-05-01 00:06:00|           rec48|       np69|place133|    NULL|          NULL|                NULL|\n",
      "|   254|user20|   Comment|Profile Page|    2024-05-01 00:06:00|            rec8|      np373|  place2|    NULL|          NULL|                NULL|\n",
      "|   254|user20|   Comment|Profile Page|    2024-05-01 00:06:00|            rec8|       np71|place165|    NULL|          NULL|                NULL|\n",
      "|   489|user20|   Comment|Profile Page|    2024-05-01 00:06:00|           rec26|      np358| place32|    NULL|          NULL|                NULL|\n",
      "|   304|user20|   Comment|Profile Page|    2024-05-01 00:06:00|            rec6|       NULL|    NULL|    NULL|          NULL|                NULL|\n",
      "+------+------+----------+------------+-----------------------+----------------+-----------+--------+--------+--------------+--------------------+\n",
      "only showing top 20 rows\n",
      "\n"
     ]
    }
   ],
   "source": [
    "merged_df = spark.read.csv('merged_data.csv', header=True, inferSchema=True)\n",
    "\n",
    "numeric_columns = [column for column, dtype in merged_df.dtypes if dtype in ['int', 'double', 'float']]\n",
    "all_columns = merged_df.columns\n",
    "\n",
    "missing_value_counts = merged_df.select(\n",
    "    [count(when(col(c).isNull() | (col(c).cast('string') == ''), c)).alias(c) for c in all_columns]\n",
    ")\n",
    "\n",
    "missing_value_counts.show()\n",
    "\n",
    "merged_df.printSchema()\n",
    "\n",
    "rows_with_missing_values = merged_df.filter(\n",
    "    col(\"nearPlaceID\").isNull() |\n",
    "    col(\"placeID\").isNull() |\n",
    "    col(\"eventID\").isNull() |\n",
    "    col(\"engagementType\").isNull() |\n",
    "    col(\"engagement_timestamp\").isNull()\n",
    ")\n",
    "\n",
    "rows_with_missing_values.show()"
   ]
  },
  {
   "cell_type": "code",
   "execution_count": 43,
   "id": "cfa9ecd9-eedc-4c4b-9cef-f828c2b3a1d4",
   "metadata": {},
   "outputs": [],
   "source": [
    "from pyspark.sql.functions import col, lit, when, count, last, coalesce\n",
    "import pyspark.sql.functions as F\n",
    "from pyspark.sql.window import Window\n",
    "import random"
   ]
  },
  {
   "cell_type": "code",
   "execution_count": 34,
   "id": "7cc1880b-7ddd-462e-b8d4-a1e04671306a",
   "metadata": {},
   "outputs": [],
   "source": [
    "spark = SparkSession.builder \\\n",
    "    .appName(\"Handle Missing Values\") \\\n",
    "    .getOrCreate()"
   ]
  },
  {
   "cell_type": "code",
   "execution_count": 35,
   "id": "339ddbe0-b2d8-4360-a15b-6377ead91825",
   "metadata": {},
   "outputs": [],
   "source": [
    "merged_df = spark.read.csv('merged_data.csv', header=True, inferSchema=True)"
   ]
  },
  {
   "cell_type": "markdown",
   "id": "f70f5105-6786-4421-ab4c-c815d302342d",
   "metadata": {},
   "source": [
    "### Fill `nearPlaceID` and `placeID` with the nearest value using forward fill"
   ]
  },
  {
   "cell_type": "code",
   "execution_count": 36,
   "id": "b68d5a18-d6ff-4594-a84c-5b6541f5ab1a",
   "metadata": {},
   "outputs": [],
   "source": [
    "#merged_df = merged_df.fillna(method='ffill', subset=['nearPlaceID', 'placeID'])\n",
    "\n",
    "window_spec = Window.orderBy(\"postID\").rowsBetween(Window.unboundedPreceding, 0)\n",
    "merged_df = merged_df.withColumn(\"nearPlaceID\", last(col(\"nearPlaceID\"), ignorenulls=True).over(window_spec))\n",
    "merged_df = merged_df.withColumn(\"placeID\", last(col(\"placeID\"), ignorenulls=True).over(window_spec))"
   ]
  },
  {
   "cell_type": "markdown",
   "id": "eb62f315-38de-49b0-95eb-e648ab55342b",
   "metadata": {},
   "source": [
    "### Generate random values for `eventID` and `engagementType`"
   ]
  },
  {
   "cell_type": "code",
   "execution_count": 37,
   "id": "7adeb201-d74a-416c-9a4a-f17d9192004b",
   "metadata": {},
   "outputs": [],
   "source": [
    "event_ids = [f\"event{i}\" for i in range(501)]\n",
    "engagement_types = [\"Like\", \"Save\", \"Share\"]"
   ]
  },
  {
   "cell_type": "markdown",
   "id": "e38dc8f7-b447-45e9-837e-03aa875c6b14",
   "metadata": {},
   "source": [
    "### UDF to generate random values for `eventID` and `engagementType`"
   ]
  },
  {
   "cell_type": "code",
   "execution_count": 38,
   "id": "32273445-0b7d-4b91-a519-680ec2752d8d",
   "metadata": {},
   "outputs": [],
   "source": [
    "random_event_id_udf = F.udf(lambda: random.choice(event_ids), returnType=F.StringType())\n",
    "random_engagement_type_udf = F.udf(lambda: random.choice(engagement_types), returnType=F.StringType())"
   ]
  },
  {
   "cell_type": "markdown",
   "id": "581726db-548a-4cdc-8567-350b66d011eb",
   "metadata": {},
   "source": [
    "### Fill missing values for `eventID` and `engagementType` with random values"
   ]
  },
  {
   "cell_type": "code",
   "execution_count": 39,
   "id": "4bff2a51-2bde-4063-a971-a4a1833f03d6",
   "metadata": {},
   "outputs": [],
   "source": [
    "merged_df = merged_df.withColumn(\"eventID\", when(col(\"eventID\").isNull(), random_event_id_udf()).otherwise(col(\"eventID\")))\n",
    "merged_df = merged_df.withColumn(\"engagementType\", when(col(\"engagementType\").isNull(), random_engagement_type_udf()).otherwise(col(\"engagementType\")))"
   ]
  },
  {
   "cell_type": "markdown",
   "id": "630e372b-0fb2-4889-ad64-899bdbc048a6",
   "metadata": {},
   "source": [
    "### Fill `engagement_timestamp` with forward fill method"
   ]
  },
  {
   "cell_type": "code",
   "execution_count": 40,
   "id": "ace88824-1f6f-4630-90e5-857a5119d14c",
   "metadata": {},
   "outputs": [],
   "source": [
    "window_spec_timestamp = Window.orderBy(\"postID\").rowsBetween(Window.unboundedPreceding, 0)\n",
    "merged_df = merged_df.withColumn(\"engagement_timestamp\", last(col(\"engagement_timestamp\"), ignorenulls=True).over(window_spec_timestamp))"
   ]
  },
  {
   "cell_type": "code",
   "execution_count": 41,
   "id": "63c05946-7fa7-493d-af98-adc558de44f4",
   "metadata": {},
   "outputs": [],
   "source": [
    "output_path_cleaned = 'cleaned_merged_data.csv'\n",
    "merged_df.write.csv(output_path_cleaned, header=True, mode='overwrite')"
   ]
  },
  {
   "cell_type": "code",
   "execution_count": 42,
   "id": "214635fa-febc-4c19-9987-dd1ec5ba8b93",
   "metadata": {},
   "outputs": [
    {
     "name": "stdout",
     "output_type": "stream",
     "text": [
      "+------+------+----------+----+-----------------------+----------------+-----------+-------+-------+--------------+--------------------+\n",
      "|postID|userID|activityID|page|user_activity_timestamp|recommendationID|nearPlaceID|placeID|eventID|engagementType|engagement_timestamp|\n",
      "+------+------+----------+----+-----------------------+----------------+-----------+-------+-------+--------------+--------------------+\n",
      "|     0|     0|         0|   0|                      0|               0|        101|    101|      0|             0|                 191|\n",
      "+------+------+----------+----+-----------------------+----------------+-----------+-------+-------+--------------+--------------------+\n",
      "\n",
      "root\n",
      " |-- postID: integer (nullable = true)\n",
      " |-- userID: string (nullable = true)\n",
      " |-- activityID: string (nullable = true)\n",
      " |-- page: string (nullable = true)\n",
      " |-- user_activity_timestamp: timestamp (nullable = true)\n",
      " |-- recommendationID: string (nullable = true)\n",
      " |-- nearPlaceID: string (nullable = true)\n",
      " |-- placeID: string (nullable = true)\n",
      " |-- eventID: string (nullable = true)\n",
      " |-- engagementType: string (nullable = true)\n",
      " |-- engagement_timestamp: timestamp (nullable = true)\n",
      "\n",
      "+------+------+--------------------+-------------+-----------------------+----------------+-----------+-------+--------+--------------+--------------------+\n",
      "|postID|userID|          activityID|         page|user_activity_timestamp|recommendationID|nearPlaceID|placeID| eventID|engagementType|engagement_timestamp|\n",
      "+------+------+--------------------+-------------+-----------------------+----------------+-----------+-------+--------+--------------+--------------------+\n",
      "|   101| user4|             Comment| Profile Page|    2024-05-02 19:50:00|           rec74|       NULL|   NULL|event140|          Save|                NULL|\n",
      "|   101| user4|             Comment| Profile Page|    2024-05-04 03:04:00|           rec74|       NULL|   NULL|  event8|          Save|                NULL|\n",
      "|   101| user2|       Post Creation| Profile Page|    2024-05-05 11:12:00|           rec92|       NULL|   NULL|event140|          Save|                NULL|\n",
      "|   101| user2|      Profile Update|     Settings|    2024-05-05 13:11:00|           rec92|       NULL|   NULL|event487|         Share|                NULL|\n",
      "|   101| user4|               Share| Profile Page|    2024-05-06 22:10:00|           rec74|       NULL|   NULL|event296|          Like|                NULL|\n",
      "|   101| user2|               Share| Profile Page|    2024-05-06 22:41:00|           rec92|       NULL|   NULL|event161|         Share|                NULL|\n",
      "|   101| user4|       Like/Reaction| Profile Page|    2024-05-07 03:31:00|           rec74|       NULL|   NULL| event24|          Like|                NULL|\n",
      "|   101| user2|               Share| Profile Page|    2024-05-08 01:01:00|           rec92|       NULL|   NULL|event433|         Share|                NULL|\n",
      "|   101| user2|             Comment| Profile Page|    2024-05-08 01:24:00|           rec92|       NULL|   NULL|event360|          Save|                NULL|\n",
      "|   101| user4|Notification Inte...|Notifications|    2024-05-08 23:06:00|           rec74|       NULL|   NULL|event351|          Save|                NULL|\n",
      "|   101| user2|     Follow/Unfollow| Profile Page|    2024-05-09 09:13:00|           rec92|       NULL|   NULL|event284|          Like|                NULL|\n",
      "|   101| user4|     Follow/Unfollow| Profile Page|    2024-05-09 22:08:00|           rec74|       NULL|   NULL|event437|         Share|                NULL|\n",
      "|   101| user2|      Profile Update|     Settings|    2024-05-09 22:18:00|           rec92|       NULL|   NULL|event121|         Share|                NULL|\n",
      "|   101| user4|       Post Creation| Profile Page|    2024-05-10 00:38:00|           rec74|       NULL|   NULL| event42|          Save|                NULL|\n",
      "|   101| user2|               Login|         Home|    2024-05-11 18:00:00|           rec92|       NULL|   NULL|event303|         Share|                NULL|\n",
      "|   101| user4|         Access Page|  Marketplace|    2024-05-11 18:20:00|           rec74|       NULL|   NULL|event453|         Share|                NULL|\n",
      "|   101| user4|      Profile Update|     Settings|    2024-05-12 03:57:00|           rec74|       NULL|   NULL| event83|          Like|                NULL|\n",
      "|   101| user2|               Share| Profile Page|    2024-05-13 13:48:00|           rec92|       NULL|   NULL|event231|          Save|                NULL|\n",
      "|   101| user2|               Share| Profile Page|    2024-05-14 10:55:00|           rec92|       NULL|   NULL|event362|         Share|                NULL|\n",
      "|   101| user4|      Profile Update|     Settings|    2024-05-14 13:33:00|           rec74|       NULL|   NULL|event148|          Save|                NULL|\n",
      "+------+------+--------------------+-------------+-----------------------+----------------+-----------+-------+--------+--------------+--------------------+\n",
      "only showing top 20 rows\n",
      "\n"
     ]
    }
   ],
   "source": [
    "merged_df = spark.read.csv('cleaned_merged_data.csv', header=True, inferSchema=True)\n",
    "\n",
    "numeric_columns = [column for column, dtype in merged_df.dtypes if dtype in ['int', 'double', 'float']]\n",
    "all_columns = merged_df.columns\n",
    "\n",
    "missing_value_counts = merged_df.select(\n",
    "    [count(when(col(c).isNull() | (col(c).cast('string') == ''), c)).alias(c) for c in all_columns]\n",
    ")\n",
    "\n",
    "missing_value_counts.show()\n",
    "\n",
    "merged_df.printSchema()\n",
    "\n",
    "rows_with_missing_values = merged_df.filter(\n",
    "    col(\"nearPlaceID\").isNull() |\n",
    "    col(\"placeID\").isNull() |\n",
    "    col(\"eventID\").isNull() |\n",
    "    col(\"engagementType\").isNull() |\n",
    "    col(\"engagement_timestamp\").isNull()\n",
    ")\n",
    "\n",
    "rows_with_missing_values.show()"
   ]
  },
  {
   "cell_type": "code",
   "execution_count": null,
   "id": "8d76e47a-2a4f-49c3-9492-51d18f011ac0",
   "metadata": {},
   "outputs": [],
   "source": []
  },
  {
   "cell_type": "code",
   "execution_count": 44,
   "id": "64feeba7-df7a-4a39-943e-d5fbcefb0ef2",
   "metadata": {},
   "outputs": [],
   "source": [
    "merged_df = spark.read.csv('cleaned_merged_data.csv', header=True, inferSchema=True)"
   ]
  },
  {
   "cell_type": "code",
   "execution_count": 45,
   "id": "50973ca5-037e-4f2e-a3b3-e717440bc83e",
   "metadata": {},
   "outputs": [],
   "source": [
    "window_spec_ffill = Window.orderBy(\"postID\").rowsBetween(Window.unboundedPreceding, 0)\n",
    "window_spec_bfill = Window.orderBy(\"postID\").rowsBetween(0, Window.unboundedFollowing)\n",
    "\n",
    "merged_df = merged_df.withColumn(\"nearPlaceID_ffill\", last(col(\"nearPlaceID\"), ignorenulls=True).over(window_spec_ffill))\n",
    "merged_df = merged_df.withColumn(\"placeID_ffill\", last(col(\"placeID\"), ignorenulls=True).over(window_spec_ffill))\n",
    "merged_df = merged_df.withColumn(\"nearPlaceID_bfill\", last(col(\"nearPlaceID_ffill\"), ignorenulls=True).over(window_spec_bfill))\n",
    "merged_df = merged_df.withColumn(\"placeID_bfill\", last(col(\"placeID_ffill\"), ignorenulls=True).over(window_spec_bfill))\n",
    "merged_df = merged_df.withColumn(\"nearPlaceID\", coalesce(col(\"nearPlaceID_ffill\"), col(\"nearPlaceID_bfill\")))\n",
    "merged_df = merged_df.withColumn(\"placeID\", coalesce(col(\"placeID_ffill\"), col(\"placeID_bfill\")))\n",
    "\n",
    "event_ids = [f\"event{i}\" for i in range(501)]\n",
    "engagement_types = [\"Like\", \"Save\", \"Share\"]\n",
    "\n",
    "random_event_id_udf = F.udf(lambda: random.choice(event_ids), returnType=F.StringType())\n",
    "random_engagement_type_udf = F.udf(lambda: random.choice(engagement_types), returnType=F.StringType())\n",
    "\n",
    "merged_df = merged_df.withColumn(\"eventID\", when(col(\"eventID\").isNull(), random_event_id_udf()).otherwise(col(\"eventID\")))\n",
    "merged_df = merged_df.withColumn(\"engagementType\", when(col(\"engagementType\").isNull(), random_engagement_type_udf()).otherwise(col(\"engagementType\")))\n",
    "merged_df = merged_df.withColumn(\"engagement_timestamp_ffill\", last(col(\"engagement_timestamp\"), ignorenulls=True).over(window_spec_ffill))\n",
    "merged_df = merged_df.withColumn(\"engagement_timestamp_bfill\", last(col(\"engagement_timestamp_ffill\"), ignorenulls=True).over(window_spec_bfill))\n",
    "merged_df = merged_df.withColumn(\"engagement_timestamp\", coalesce(col(\"engagement_timestamp_ffill\"), col(\"engagement_timestamp_bfill\")))\n",
    "merged_df = merged_df.drop(\"nearPlaceID_ffill\", \"nearPlaceID_bfill\", \"placeID_ffill\", \"placeID_bfill\", \"engagement_timestamp_ffill\", \"engagement_timestamp_bfill\")"
   ]
  },
  {
   "cell_type": "code",
   "execution_count": 46,
   "id": "8ae1cb40-476d-40da-a92e-399a28c5cf7f",
   "metadata": {},
   "outputs": [
    {
     "name": "stderr",
     "output_type": "stream",
     "text": [
      "----------------------------------------\n",
      "Exception happened during processing of request from ('127.0.0.1', 50374)\n",
      "Traceback (most recent call last):\n",
      "  File \"/opt/anaconda3/lib/python3.8/socketserver.py\", line 316, in _handle_request_noblock\n",
      "    self.process_request(request, client_address)\n",
      "  File \"/opt/anaconda3/lib/python3.8/socketserver.py\", line 347, in process_request\n",
      "    self.finish_request(request, client_address)\n",
      "  File \"/opt/anaconda3/lib/python3.8/socketserver.py\", line 360, in finish_request\n",
      "    self.RequestHandlerClass(request, client_address, self)\n",
      "  File \"/opt/anaconda3/lib/python3.8/socketserver.py\", line 720, in __init__\n",
      "    self.handle()\n",
      "  File \"/opt/anaconda3/lib/python3.8/site-packages/pyspark/accumulators.py\", line 295, in handle\n",
      "    poll(accum_updates)\n",
      "  File \"/opt/anaconda3/lib/python3.8/site-packages/pyspark/accumulators.py\", line 267, in poll\n",
      "    if self.rfile in r and func():\n",
      "  File \"/opt/anaconda3/lib/python3.8/site-packages/pyspark/accumulators.py\", line 271, in accum_updates\n",
      "    num_updates = read_int(self.rfile)\n",
      "  File \"/opt/anaconda3/lib/python3.8/site-packages/pyspark/serializers.py\", line 596, in read_int\n",
      "    raise EOFError\n",
      "EOFError\n",
      "----------------------------------------\n"
     ]
    }
   ],
   "source": [
    "output_path_cleaned = 'cleaned_merged_data.csv'\n",
    "merged_df.write.csv(output_path_cleaned, header=True, mode='overwrite')"
   ]
  },
  {
   "cell_type": "code",
   "execution_count": null,
   "id": "b9a4839a-f592-4325-bf7a-b6bdd84e213c",
   "metadata": {},
   "outputs": [],
   "source": [
    "spark.stop()"
   ]
  },
  {
   "cell_type": "code",
   "execution_count": null,
   "id": "5991d7d3-dcea-44e2-9d2a-7c00e9b89487",
   "metadata": {},
   "outputs": [],
   "source": []
  },
  {
   "cell_type": "code",
   "execution_count": null,
   "id": "66887471-3726-48f0-b4d6-bd03cfd630c8",
   "metadata": {},
   "outputs": [],
   "source": []
  },
  {
   "cell_type": "code",
   "execution_count": null,
   "id": "813d85a4-90c1-4b0a-821a-8454450b8ce4",
   "metadata": {},
   "outputs": [],
   "source": []
  }
 ],
 "metadata": {
  "kernelspec": {
   "display_name": "Python 3",
   "language": "python",
   "name": "python3"
  },
  "language_info": {
   "codemirror_mode": {
    "name": "ipython",
    "version": 3
   },
   "file_extension": ".py",
   "mimetype": "text/x-python",
   "name": "python",
   "nbconvert_exporter": "python",
   "pygments_lexer": "ipython3",
   "version": "3.8.8"
  }
 },
 "nbformat": 4,
 "nbformat_minor": 5
}
