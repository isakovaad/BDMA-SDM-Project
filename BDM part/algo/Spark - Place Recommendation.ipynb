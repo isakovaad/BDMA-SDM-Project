{
 "cells": [
  {
   "cell_type": "code",
   "execution_count": 1,
   "id": "231e3980",
   "metadata": {
    "scrolled": true
   },
   "outputs": [],
   "source": [
    "from pyspark.sql import SparkSession\n",
    "from pyspark.sql.functions import lit, col, row_number, udf\n",
    "from pyspark.sql.types import DoubleType\n",
    "from geopy.distance import geodesic\n",
    "from pyspark.sql.window import Window\n",
    "import json"
   ]
  },
  {
   "cell_type": "code",
   "execution_count": 2,
   "id": "3d810f71",
   "metadata": {},
   "outputs": [
    {
     "name": "stderr",
     "output_type": "stream",
     "text": [
      "24/05/28 23:20:06 WARN Utils: Your hostname, Shofiyyahs-MacBook-Air.local resolves to a loopback address: 127.0.0.1; using 192.168.0.17 instead (on interface en0)\n",
      "24/05/28 23:20:06 WARN Utils: Set SPARK_LOCAL_IP if you need to bind to another address\n",
      "Setting default log level to \"WARN\".\n",
      "To adjust logging level use sc.setLogLevel(newLevel). For SparkR, use setLogLevel(newLevel).\n",
      "24/05/28 23:20:36 WARN NativeCodeLoader: Unable to load native-hadoop library for your platform... using builtin-java classes where applicable\n"
     ]
    }
   ],
   "source": [
    "# Initialize Spark session\n",
    "spark = SparkSession.builder.appName(\"Place Data\").getOrCreate()\n",
    "\n",
    "def load_json_to_df(file_path, category):\n",
    "    with open(file_path, 'r') as file:\n",
    "        data = json.load(file)\n",
    "\n",
    "    # Extract place names and coordinates\n",
    "    places = []\n",
    "    for result in data['results']:\n",
    "        name = result['name']\n",
    "        lat = result['geometry']['location']['lat']\n",
    "        lng = result['geometry']['location']['lng']\n",
    "        places.append({'name': name, 'latitude': lat, 'longitude': lng})\n",
    "\n",
    "    # Convert to RDD and DataFrame\n",
    "    rdd = spark.sparkContext.parallelize(places)\n",
    "    df = spark.createDataFrame(rdd)\n",
    "    \n",
    "    # Add category column\n",
    "    df = df.withColumn(\"category\", lit(category))\n",
    "    \n",
    "    return df"
   ]
  },
  {
   "cell_type": "code",
   "execution_count": 3,
   "id": "ff265163",
   "metadata": {},
   "outputs": [
    {
     "name": "stderr",
     "output_type": "stream",
     "text": [
      "                                                                                \r"
     ]
    }
   ],
   "source": [
    "# Load data for gyms, museums, and restaurants\n",
    "df_gym = load_json_to_df('gym.json', 'gym')\n",
    "df_museum = load_json_to_df('museum.json', 'museum')\n",
    "df_restaurant = load_json_to_df('restaurant.json', 'restaurant')"
   ]
  },
  {
   "cell_type": "code",
   "execution_count": 4,
   "id": "7112ae96",
   "metadata": {},
   "outputs": [
    {
     "name": "stdout",
     "output_type": "stream",
     "text": [
      "+----------+---------+--------------------+--------+\n",
      "|  latitude|longitude|                name|category|\n",
      "+----------+---------+--------------------+--------+\n",
      "|41.3996418|2.1197347|Body Lab Fitness ...|     gym|\n",
      "+----------+---------+--------------------+--------+\n",
      "only showing top 1 row\n",
      "\n"
     ]
    }
   ],
   "source": [
    "# Combine DataFrames\n",
    "df_places = df_gym.union(df_museum).union(df_restaurant)\n",
    "\n",
    "df_places.show(1)"
   ]
  },
  {
   "cell_type": "markdown",
   "id": "902f9b87",
   "metadata": {},
   "source": [
    "## Meetup"
   ]
  },
  {
   "cell_type": "code",
   "execution_count": 5,
   "id": "ba8db2e6",
   "metadata": {},
   "outputs": [],
   "source": [
    "# Load the meetup JSON file\n",
    "file_path_meetup = 'meetup.json'\n",
    "with open(file_path_meetup, 'r') as file:\n",
    "    meetup_data = json.load(file)"
   ]
  },
  {
   "cell_type": "code",
   "execution_count": 6,
   "id": "ac4e53db",
   "metadata": {},
   "outputs": [],
   "source": [
    "# Extract place names and coordinates from the Google Maps links\n",
    "meetup_places = []\n",
    "for event in meetup_data:\n",
    "    name = event['title']\n",
    "    gmaps_link = event['gmaps_link']\n",
    "    lat, lng = gmaps_link.split('query=')[1].split('%2C%20')\n",
    "    meetup_places.append({'name': name, 'latitude': float(lat), 'longitude': float(lng)})"
   ]
  },
  {
   "cell_type": "code",
   "execution_count": 7,
   "id": "6c9eb812",
   "metadata": {},
   "outputs": [
    {
     "name": "stdout",
     "output_type": "stream",
     "text": [
      "+--------+---------+--------------------+\n",
      "|latitude|longitude|                name|\n",
      "+--------+---------+--------------------+\n",
      "|41.39655| 2.194162|Coffee Walk & Bea...|\n",
      "+--------+---------+--------------------+\n",
      "only showing top 1 row\n",
      "\n"
     ]
    }
   ],
   "source": [
    "# Convert to RDD and DataFrame\n",
    "rdd_meetup = spark.sparkContext.parallelize(meetup_places)\n",
    "df_meetup = spark.createDataFrame(rdd_meetup)\n",
    "\n",
    "df_meetup.show(1)"
   ]
  },
  {
   "cell_type": "markdown",
   "id": "0a1c6952",
   "metadata": {},
   "source": [
    "## Nearest Places"
   ]
  },
  {
   "cell_type": "code",
   "execution_count": 8,
   "id": "a1ba0284",
   "metadata": {},
   "outputs": [
    {
     "name": "stderr",
     "output_type": "stream",
     "text": [
      "24/05/28 23:20:47 WARN GarbageCollectionMetrics: To enable non-built-in garbage collector(s) List(G1 Concurrent GC), users should configure it(them) to spark.eventLog.gcMetrics.youngGenerationGarbageCollectors or spark.eventLog.gcMetrics.oldGenerationGarbageCollectors\n",
      "[Stage 6:======================================================>(191 + 1) / 192]\r"
     ]
    },
    {
     "name": "stdout",
     "output_type": "stream",
     "text": [
      "+--------------------+-------------+--------------+--------------------+-----------------+---------+-------------------+\n",
      "|          from_place|from_latitude|from_longitude|                name|         latitude|longitude|           distance|\n",
      "+--------------------+-------------+--------------+--------------------+-----------------+---------+-------------------+\n",
      "|#12 Meetup - UX S...|    41.397804|      2.159702|         Eurofitness|        41.399545|2.1617254| 0.2569419896415083|\n",
      "|#12 Meetup - UX S...|    41.397804|      2.159702|La Pedrera-Casa Milà|       41.3952155|2.1619024|0.34133375576165587|\n",
      "|#12 Meetup - UX S...|    41.397804|      2.159702|VivaGym Vía Augus...|       41.3969074|2.1544011|0.45434930668777357|\n",
      "|#12 Meetup - UX S...|    41.397804|      2.159702|           Yesterday|       41.3996209|2.1545211|0.47794496916730517|\n",
      "|(FRESH)    NETWOR...|     41.40046|      2.196119|Design Museum of ...|       41.4024531|2.1880815| 0.7076297832326779|\n",
      "|(FRESH)    NETWOR...|     41.40046|      2.196119|         Elsa y Fred|        41.389793| 2.179749| 1.8104573767620011|\n",
      "|(FRESH)    NETWOR...|     41.40046|      2.196119|Museu de la Xocolata|        41.387356| 2.181679| 1.8911540677734582|\n",
      "|(FRESH)    NETWOR...|     41.40046|      2.196119|Casa Lolea Barcelona|41.38890000000001|2.1771556| 2.0404686003670207|\n",
      "|*The return of DO...|      41.4067|      2.201407|Design Museum of ...|       41.4024531|2.1880815| 1.2099776393137345|\n",
      "|*The return of DO...|      41.4067|      2.201407|Museum of Natural...|       41.4111948|2.2211093| 1.7213439209200767|\n",
      "|*The return of DO...|      41.4067|      2.201407|         Elsa y Fred|        41.389793| 2.179749|  2.608874960629024|\n",
      "|*The return of DO...|      41.4067|      2.201407|Museu de la Xocolata|        41.387356| 2.181679| 2.7087671441071866|\n",
      "| 13th BcnRust Meetup|    41.403122|      2.192204|Design Museum of ...|       41.4024531|2.1880815|0.35264107567706277|\n",
      "| 13th BcnRust Meetup|    41.403122|      2.192204|         Elsa y Fred|        41.389793| 2.179749| 1.8100650281359483|\n",
      "| 13th BcnRust Meetup|    41.403122|      2.192204|Museu de la Xocolata|        41.387356| 2.181679| 1.9597861366515672|\n",
      "| 13th BcnRust Meetup|    41.403122|      2.192204|Casa Lolea Barcelona|41.38890000000001|2.1771556|  2.019573517087271|\n",
      "|20a Passejada amb...|    41.396038|      2.159472|La Pedrera-Casa Milà|       41.3952155|2.1619024|0.22283828848786666|\n",
      "|20a Passejada amb...|    41.396038|      2.159472|         Eurofitness|        41.399545|2.1617254| 0.4326853949421242|\n",
      "|20a Passejada amb...|    41.396038|      2.159472|VivaGym Vía Augus...|       41.3969074|2.1544011|0.43492789868894843|\n",
      "|20a Passejada amb...|    41.396038|      2.159472|Fitness Park Barc...|41.39646399999999|2.1536453|0.48957426459300285|\n",
      "+--------------------+-------------+--------------+--------------------+-----------------+---------+-------------------+\n",
      "only showing top 20 rows\n",
      "\n"
     ]
    },
    {
     "name": "stderr",
     "output_type": "stream",
     "text": [
      "\r",
      "                                                                                \r"
     ]
    }
   ],
   "source": [
    "# Function to calculate distance\n",
    "def calculate_distance(lat1, lon1, lat2, lon2):\n",
    "    return geodesic((lat1, lon1), (lat2, lon2)).kilometers\n",
    "\n",
    "# Register UDF\n",
    "distance_udf = udf(calculate_distance, DoubleType())\n",
    "\n",
    "# Rename columns in df_places to avoid ambiguity\n",
    "df_places_renamed = df_places.withColumnRenamed(\"latitude\", \"place_latitude\").withColumnRenamed(\"longitude\", \"place_longitude\").withColumnRenamed(\"name\", \"place_name\")\n",
    "\n",
    "# Cross join df_meetup with df_places\n",
    "df_meetup_with_index = df_meetup.withColumn(\"key\", lit(1))\n",
    "df_places_with_index = df_places_renamed.withColumn(\"key\", lit(1))\n",
    "\n",
    "df_cross = df_meetup_with_index.join(df_places_with_index, \"key\").drop(\"key\")\n",
    "\n",
    "# Calculate distances\n",
    "df_cross = df_cross.withColumn(\"distance\", distance_udf(col(\"latitude\"), col(\"longitude\"), col(\"place_latitude\"), col(\"place_longitude\")))\n",
    "\n",
    "# Select the relevant columns\n",
    "df_cross = df_cross.select(\n",
    "    col(\"name\").alias(\"from_place\"),\n",
    "    col(\"latitude\").alias(\"from_latitude\"),\n",
    "    col(\"longitude\").alias(\"from_longitude\"),\n",
    "    col(\"place_name\").alias(\"name\"),\n",
    "    col(\"place_latitude\").alias(\"latitude\"),\n",
    "    col(\"place_longitude\").alias(\"longitude\"),\n",
    "    col(\"distance\")\n",
    ")\n",
    "\n",
    "# Find the nearest 4 places for each meetup location\n",
    "window = Window.partitionBy(\"from_place\", \"from_latitude\", \"from_longitude\").orderBy(\"distance\")\n",
    "df_nearest_places = df_cross.withColumn(\"rank\", row_number().over(window)).filter(col(\"rank\") <= 4).drop(\"rank\")\n",
    "\n",
    "# Remove duplicates\n",
    "df_nearest_places = df_nearest_places.dropDuplicates([\"from_place\", \"name\", \"latitude\", \"longitude\", \"distance\"])\n",
    "\n",
    "# Sort by from_place and distance\n",
    "df_nearest_places_sorted = df_nearest_places.orderBy(col(\"from_place\"), col(\"distance\"))\n",
    "\n",
    "# Show the DataFrame\n",
    "df_nearest_places_sorted.show()"
   ]
  }
 ],
 "metadata": {
  "kernelspec": {
   "display_name": "Python 3 (ipykernel)",
   "language": "python",
   "name": "python3"
  },
  "language_info": {
   "codemirror_mode": {
    "name": "ipython",
    "version": 3
   },
   "file_extension": ".py",
   "mimetype": "text/x-python",
   "name": "python",
   "nbconvert_exporter": "python",
   "pygments_lexer": "ipython3",
   "version": "3.11.5"
  }
 },
 "nbformat": 4,
 "nbformat_minor": 5
}
