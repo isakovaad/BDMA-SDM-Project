{
 "cells": [
  {
   "cell_type": "code",
   "execution_count": 1,
   "id": "91781e43",
   "metadata": {},
   "outputs": [],
   "source": [
    "from pyspark.sql import SparkSession\n",
    "from pyspark.sql.functions import lit, col, row_number, udf, monotonically_increasing_id\n",
    "from pyspark.sql.types import DoubleType, IntegerType\n",
    "from geopy.distance import geodesic\n",
    "from pyspark.sql.window import Window\n",
    "import json"
   ]
  },
  {
   "cell_type": "code",
   "execution_count": 2,
   "id": "3e3b93f6",
   "metadata": {},
   "outputs": [
    {
     "name": "stderr",
     "output_type": "stream",
     "text": [
      "24/06/04 23:49:43 WARN Utils: Your hostname, Shofiyyahs-MacBook-Air.local resolves to a loopback address: 127.0.0.1; using 192.168.0.17 instead (on interface en0)\n",
      "24/06/04 23:49:43 WARN Utils: Set SPARK_LOCAL_IP if you need to bind to another address\n",
      "Setting default log level to \"WARN\".\n",
      "To adjust logging level use sc.setLogLevel(newLevel). For SparkR, use setLogLevel(newLevel).\n",
      "24/06/04 23:50:14 WARN NativeCodeLoader: Unable to load native-hadoop library for your platform... using builtin-java classes where applicable\n",
      "24/06/04 23:50:14 WARN Utils: Service 'SparkUI' could not bind on port 4040. Attempting port 4041.\n",
      "24/06/04 23:50:14 WARN Utils: Service 'SparkUI' could not bind on port 4041. Attempting port 4042.\n"
     ]
    }
   ],
   "source": [
    "spark = SparkSession.builder.appName(\"Nearest Place Data\").getOrCreate()"
   ]
  },
  {
   "cell_type": "code",
   "execution_count": 3,
   "id": "bbc4c7e4",
   "metadata": {},
   "outputs": [],
   "source": [
    "def load_json_to_df(file_path, category):\n",
    "    with open(file_path, 'r') as file:\n",
    "        data = json.load(file)\n",
    "\n",
    "    # Extract place names and coordinates\n",
    "    places = []\n",
    "    for result in data['results']:\n",
    "        place_id = result['place_id']\n",
    "        lat = result['geometry']['location']['lat']\n",
    "        lng = result['geometry']['location']['lng']\n",
    "        places.append({'place_id': place_id, 'latitude': lat, 'longitude': lng})\n",
    "\n",
    "    # Convert to RDD and DataFrame\n",
    "    rdd = spark.sparkContext.parallelize(places)\n",
    "    df = spark.createDataFrame(rdd)\n",
    "    \n",
    "    # Add category column\n",
    "    df = df.withColumn(\"category\", lit(category))\n",
    "    \n",
    "    return df"
   ]
  },
  {
   "cell_type": "code",
   "execution_count": 5,
   "id": "8aa8c0ab",
   "metadata": {},
   "outputs": [
    {
     "name": "stderr",
     "output_type": "stream",
     "text": [
      "                                                                                \r"
     ]
    }
   ],
   "source": [
    "df_gym = load_json_to_df('data/gym.json', 'gym')\n",
    "df_museum = load_json_to_df('data/museum.json', 'museum')\n",
    "df_restaurant = load_json_to_df('data/restaurant.json', 'restaurant')"
   ]
  },
  {
   "cell_type": "code",
   "execution_count": 6,
   "id": "c0a42f13",
   "metadata": {},
   "outputs": [],
   "source": [
    "df_places = df_gym.union(df_museum).union(df_restaurant)"
   ]
  },
  {
   "cell_type": "code",
   "execution_count": 7,
   "id": "d962766d",
   "metadata": {},
   "outputs": [],
   "source": [
    "df_meetup = spark.read.json(\"data/post.json\")"
   ]
  },
  {
   "cell_type": "code",
   "execution_count": 8,
   "id": "e0bacd0e",
   "metadata": {},
   "outputs": [],
   "source": [
    "def calculate_distance(lat1, lon1, lat2, lon2):\n",
    "    return geodesic((lat1, lon1), (lat2, lon2)).kilometers"
   ]
  },
  {
   "cell_type": "code",
   "execution_count": 9,
   "id": "325da606",
   "metadata": {},
   "outputs": [],
   "source": [
    "distance_udf = udf(calculate_distance, DoubleType())"
   ]
  },
  {
   "cell_type": "code",
   "execution_count": 10,
   "id": "81b94f9e",
   "metadata": {},
   "outputs": [],
   "source": [
    "df_places_renamed = df_places.withColumnRenamed(\"latitude\", \"place_latitude\").withColumnRenamed(\"longitude\", \"place_longitude\").withColumnRenamed(\"place_id\", \"place_id\")"
   ]
  },
  {
   "cell_type": "code",
   "execution_count": 11,
   "id": "c177a1ab",
   "metadata": {},
   "outputs": [],
   "source": [
    "df_meetup_with_index = df_meetup.withColumn(\"key\", lit(1))\n",
    "df_places_with_index = df_places_renamed.withColumn(\"key\", lit(1))"
   ]
  },
  {
   "cell_type": "code",
   "execution_count": 12,
   "id": "aff23da8",
   "metadata": {},
   "outputs": [],
   "source": [
    "df_cross = df_meetup_with_index.join(df_places_with_index, \"key\").drop(\"key\")"
   ]
  },
  {
   "cell_type": "code",
   "execution_count": 13,
   "id": "c23aa5a4",
   "metadata": {},
   "outputs": [],
   "source": [
    "df_cross = df_cross.withColumn(\"distance\", distance_udf(col(\"lat\"), col(\"lon\"), col(\"place_latitude\"), col(\"place_longitude\")))"
   ]
  },
  {
   "cell_type": "code",
   "execution_count": 14,
   "id": "aa2cb7df",
   "metadata": {},
   "outputs": [],
   "source": [
    "df_cross = df_cross.select(\n",
    "    col(\"post_id\"),\n",
    "    col(\"lat\").alias(\"from_latitude\"),\n",
    "    col(\"lon\").alias(\"from_longitude\"),\n",
    "    col(\"place_id\"),\n",
    "    col(\"place_latitude\").alias(\"latitude\"),\n",
    "    col(\"place_longitude\").alias(\"longitude\"),\n",
    "    col(\"distance\")\n",
    ")"
   ]
  },
  {
   "cell_type": "code",
   "execution_count": 15,
   "id": "251fc0c1",
   "metadata": {},
   "outputs": [],
   "source": [
    "window = Window.partitionBy(\"post_id\").orderBy(\"distance\")\n",
    "df_nearest_places = df_cross.withColumn(\"rank\", row_number().over(window)).filter(col(\"rank\") <= 4).drop(\"rank\")"
   ]
  },
  {
   "cell_type": "code",
   "execution_count": 16,
   "id": "32227282",
   "metadata": {},
   "outputs": [],
   "source": [
    "df_nearest_places = df_nearest_places.withColumn(\"nearest_places_id\", row_number().over(Window.orderBy(monotonically_increasing_id())))"
   ]
  },
  {
   "cell_type": "code",
   "execution_count": 17,
   "id": "fc84651c",
   "metadata": {},
   "outputs": [],
   "source": [
    "final_df = df_nearest_places.select(col(\"nearest_places_id\"), col(\"post_id\"), col(\"place_id\"))"
   ]
  },
  {
   "cell_type": "code",
   "execution_count": 18,
   "id": "3dc872e7",
   "metadata": {},
   "outputs": [
    {
     "name": "stderr",
     "output_type": "stream",
     "text": [
      "24/06/04 23:51:55 WARN WindowExec: No Partition Defined for Window operation! Moving all data to a single partition, this can cause serious performance degradation.\n",
      "24/06/04 23:51:55 WARN WindowExec: No Partition Defined for Window operation! Moving all data to a single partition, this can cause serious performance degradation.\n",
      "24/06/04 23:51:55 WARN WindowExec: No Partition Defined for Window operation! Moving all data to a single partition, this can cause serious performance degradation.\n",
      "24/06/04 23:51:55 WARN WindowExec: No Partition Defined for Window operation! Moving all data to a single partition, this can cause serious performance degradation.\n",
      "24/06/04 23:51:55 WARN WindowExec: No Partition Defined for Window operation! Moving all data to a single partition, this can cause serious performance degradation.\n",
      "24/06/04 23:51:57 WARN WindowExec: No Partition Defined for Window operation! Moving all data to a single partition, this can cause serious performance degradation.\n",
      "24/06/04 23:51:57 WARN WindowExec: No Partition Defined for Window operation! Moving all data to a single partition, this can cause serious performance degradation.\n",
      "24/06/04 23:51:57 WARN WindowExec: No Partition Defined for Window operation! Moving all data to a single partition, this can cause serious performance degradation.\n"
     ]
    },
    {
     "name": "stdout",
     "output_type": "stream",
     "text": [
      "+-----------------+-------+---------------------------+\n",
      "|nearest_places_id|post_id|place_id                   |\n",
      "+-----------------+-------+---------------------------+\n",
      "|1                |1      |ChIJ12d3ZlmYpBIRStDXELkkdJE|\n",
      "|2                |1      |ChIJNbGKpPyipBIRWOE2AiC82hc|\n",
      "|3                |1      |ChIJC6CEtf2ipBIRkFQaF95uL1Q|\n",
      "|4                |1      |ChIJeYwrA_uipBIRtLLknGLSRQA|\n",
      "|5                |2      |ChIJBTfBbwCjpBIRK-jjm940utc|\n",
      "|6                |2      |ChIJa-K8mf6ipBIRY8wAB3EeASc|\n",
      "|7                |2      |ChIJC6CEtf2ipBIRkFQaF95uL1Q|\n",
      "|8                |2      |ChIJveK7vP6ipBIRiegu-jsxGX8|\n",
      "|9                |3      |ChIJMSlpOfGipBIRf5cyHKdpsHg|\n",
      "|10               |3      |ChIJ4aTqxfaipBIRi9Kz759j6GI|\n",
      "|11               |3      |ChIJ7z9uFveipBIRzDCxOaCzzSU|\n",
      "|12               |3      |ChIJfx2I8vaipBIR2bIdtf-roQE|\n",
      "|13               |4      |ChIJ12d3ZlmYpBIRStDXELkkdJE|\n",
      "|14               |4      |ChIJNbGKpPyipBIRWOE2AiC82hc|\n",
      "|15               |4      |ChIJC6CEtf2ipBIRkFQaF95uL1Q|\n",
      "|16               |4      |ChIJeYwrA_uipBIRtLLknGLSRQA|\n",
      "|17               |5      |ChIJ12d3ZlmYpBIRStDXELkkdJE|\n",
      "|18               |5      |ChIJNbGKpPyipBIRWOE2AiC82hc|\n",
      "|19               |5      |ChIJC6CEtf2ipBIRkFQaF95uL1Q|\n",
      "|20               |5      |ChIJeYwrA_uipBIRtLLknGLSRQA|\n",
      "+-----------------+-------+---------------------------+\n",
      "only showing top 20 rows\n",
      "\n"
     ]
    },
    {
     "name": "stderr",
     "output_type": "stream",
     "text": [
      "\r",
      "                                                                                \r"
     ]
    }
   ],
   "source": [
    "final_df.show(truncate=False)"
   ]
  },
  {
   "cell_type": "code",
   "execution_count": 20,
   "id": "2fa69774",
   "metadata": {},
   "outputs": [
    {
     "name": "stderr",
     "output_type": "stream",
     "text": [
      "24/06/04 23:53:28 WARN WindowExec: No Partition Defined for Window operation! Moving all data to a single partition, this can cause serious performance degradation.\n",
      "24/06/04 23:53:28 WARN WindowExec: No Partition Defined for Window operation! Moving all data to a single partition, this can cause serious performance degradation.\n",
      "24/06/04 23:53:28 WARN WindowExec: No Partition Defined for Window operation! Moving all data to a single partition, this can cause serious performance degradation.\n",
      "24/06/04 23:53:28 WARN WindowExec: No Partition Defined for Window operation! Moving all data to a single partition, this can cause serious performance degradation.\n",
      "24/06/04 23:53:28 WARN WindowExec: No Partition Defined for Window operation! Moving all data to a single partition, this can cause serious performance degradation.\n",
      "24/06/04 23:53:29 WARN WindowExec: No Partition Defined for Window operation! Moving all data to a single partition, this can cause serious performance degradation.\n",
      "24/06/04 23:53:29 WARN WindowExec: No Partition Defined for Window operation! Moving all data to a single partition, this can cause serious performance degradation.\n",
      "24/06/04 23:53:29 WARN WindowExec: No Partition Defined for Window operation! Moving all data to a single partition, this can cause serious performance degradation.\n",
      "24/06/04 23:53:29 WARN WindowExec: No Partition Defined for Window operation! Moving all data to a single partition, this can cause serious performance degradation.\n",
      "                                                                                \r"
     ]
    }
   ],
   "source": [
    "final_df.write.csv(\"data/nearest_places.csv\", header=True)"
   ]
  }
 ],
 "metadata": {
  "kernelspec": {
   "display_name": "Python 3 (ipykernel)",
   "language": "python",
   "name": "python3"
  },
  "language_info": {
   "codemirror_mode": {
    "name": "ipython",
    "version": 3
   },
   "file_extension": ".py",
   "mimetype": "text/x-python",
   "name": "python",
   "nbconvert_exporter": "python",
   "pygments_lexer": "ipython3",
   "version": "3.11.5"
  }
 },
 "nbformat": 4,
 "nbformat_minor": 5
}
