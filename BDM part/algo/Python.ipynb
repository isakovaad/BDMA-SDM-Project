{
 "cells": [
  {
   "cell_type": "code",
   "execution_count": 1,
   "id": "cf5043d8",
   "metadata": {},
   "outputs": [],
   "source": [
    "import pandas as pd\n",
    "import json"
   ]
  },
  {
   "cell_type": "markdown",
   "id": "3f83ec34",
   "metadata": {},
   "source": [
    "## Gym"
   ]
  },
  {
   "cell_type": "code",
   "execution_count": 2,
   "id": "0533f7e3",
   "metadata": {},
   "outputs": [],
   "source": [
    "# Load the JSON file\n",
    "file_path = 'gym.json'\n",
    "with open(file_path, 'r') as file:\n",
    "    data = json.load(file)"
   ]
  },
  {
   "cell_type": "code",
   "execution_count": 3,
   "id": "ce0550c6",
   "metadata": {},
   "outputs": [],
   "source": [
    "# Extract place names and coordinates\n",
    "places = []\n",
    "for result in data['results']:\n",
    "    name = result['name']\n",
    "    lat = result['geometry']['location']['lat']\n",
    "    lng = result['geometry']['location']['lng']\n",
    "    places.append({'name': name, 'latitude': lat, 'longitude': lng})"
   ]
  },
  {
   "cell_type": "code",
   "execution_count": 4,
   "id": "fb155e80",
   "metadata": {},
   "outputs": [],
   "source": [
    "# Convert to DataFrame\n",
    "df_gym = pd.DataFrame(places)"
   ]
  },
  {
   "cell_type": "code",
   "execution_count": 5,
   "id": "7f8487a0",
   "metadata": {},
   "outputs": [
    {
     "data": {
      "text/html": [
       "<div>\n",
       "<style scoped>\n",
       "    .dataframe tbody tr th:only-of-type {\n",
       "        vertical-align: middle;\n",
       "    }\n",
       "\n",
       "    .dataframe tbody tr th {\n",
       "        vertical-align: top;\n",
       "    }\n",
       "\n",
       "    .dataframe thead th {\n",
       "        text-align: right;\n",
       "    }\n",
       "</style>\n",
       "<table border=\"1\" class=\"dataframe\">\n",
       "  <thead>\n",
       "    <tr style=\"text-align: right;\">\n",
       "      <th></th>\n",
       "      <th>name</th>\n",
       "      <th>latitude</th>\n",
       "      <th>longitude</th>\n",
       "    </tr>\n",
       "  </thead>\n",
       "  <tbody>\n",
       "    <tr>\n",
       "      <th>0</th>\n",
       "      <td>Body Lab Fitness Barcelona</td>\n",
       "      <td>41.399642</td>\n",
       "      <td>2.119735</td>\n",
       "    </tr>\n",
       "  </tbody>\n",
       "</table>\n",
       "</div>"
      ],
      "text/plain": [
       "                         name   latitude  longitude\n",
       "0  Body Lab Fitness Barcelona  41.399642   2.119735"
      ]
     },
     "execution_count": 5,
     "metadata": {},
     "output_type": "execute_result"
    }
   ],
   "source": [
    "df_gym.head(1)"
   ]
  },
  {
   "cell_type": "code",
   "execution_count": 6,
   "id": "d2b230db",
   "metadata": {
    "scrolled": true
   },
   "outputs": [
    {
     "data": {
      "text/html": [
       "<div>\n",
       "<style scoped>\n",
       "    .dataframe tbody tr th:only-of-type {\n",
       "        vertical-align: middle;\n",
       "    }\n",
       "\n",
       "    .dataframe tbody tr th {\n",
       "        vertical-align: top;\n",
       "    }\n",
       "\n",
       "    .dataframe thead th {\n",
       "        text-align: right;\n",
       "    }\n",
       "</style>\n",
       "<table border=\"1\" class=\"dataframe\">\n",
       "  <thead>\n",
       "    <tr style=\"text-align: right;\">\n",
       "      <th></th>\n",
       "      <th>name</th>\n",
       "      <th>latitude</th>\n",
       "      <th>longitude</th>\n",
       "      <th>category</th>\n",
       "    </tr>\n",
       "  </thead>\n",
       "  <tbody>\n",
       "    <tr>\n",
       "      <th>0</th>\n",
       "      <td>Body Lab Fitness Barcelona</td>\n",
       "      <td>41.399642</td>\n",
       "      <td>2.119735</td>\n",
       "      <td>gym</td>\n",
       "    </tr>\n",
       "  </tbody>\n",
       "</table>\n",
       "</div>"
      ],
      "text/plain": [
       "                         name   latitude  longitude category\n",
       "0  Body Lab Fitness Barcelona  41.399642   2.119735      gym"
      ]
     },
     "execution_count": 6,
     "metadata": {},
     "output_type": "execute_result"
    }
   ],
   "source": [
    "df_gym['category'] = 'gym'\n",
    "df_gym.head(1)"
   ]
  },
  {
   "cell_type": "markdown",
   "id": "fc1f901f",
   "metadata": {},
   "source": [
    "## Restaurant"
   ]
  },
  {
   "cell_type": "code",
   "execution_count": 7,
   "id": "1fe7e4ed",
   "metadata": {},
   "outputs": [],
   "source": [
    "# Load the JSON file\n",
    "file_path = 'restaurant.json'\n",
    "with open(file_path, 'r') as file:\n",
    "    data = json.load(file)"
   ]
  },
  {
   "cell_type": "code",
   "execution_count": 8,
   "id": "d5b332d5",
   "metadata": {},
   "outputs": [],
   "source": [
    "# Extract place names and coordinates\n",
    "places = []\n",
    "for result in data['results']:\n",
    "    name = result['name']\n",
    "    lat = result['geometry']['location']['lat']\n",
    "    lng = result['geometry']['location']['lng']\n",
    "    places.append({'name': name, 'latitude': lat, 'longitude': lng})"
   ]
  },
  {
   "cell_type": "code",
   "execution_count": 9,
   "id": "6bee44ba",
   "metadata": {},
   "outputs": [],
   "source": [
    "# Convert to DataFrame\n",
    "df_rest = pd.DataFrame(places)"
   ]
  },
  {
   "cell_type": "code",
   "execution_count": 10,
   "id": "21a04443",
   "metadata": {},
   "outputs": [
    {
     "data": {
      "text/html": [
       "<div>\n",
       "<style scoped>\n",
       "    .dataframe tbody tr th:only-of-type {\n",
       "        vertical-align: middle;\n",
       "    }\n",
       "\n",
       "    .dataframe tbody tr th {\n",
       "        vertical-align: top;\n",
       "    }\n",
       "\n",
       "    .dataframe thead th {\n",
       "        text-align: right;\n",
       "    }\n",
       "</style>\n",
       "<table border=\"1\" class=\"dataframe\">\n",
       "  <thead>\n",
       "    <tr style=\"text-align: right;\">\n",
       "      <th></th>\n",
       "      <th>name</th>\n",
       "      <th>latitude</th>\n",
       "      <th>longitude</th>\n",
       "    </tr>\n",
       "  </thead>\n",
       "  <tbody>\n",
       "    <tr>\n",
       "      <th>0</th>\n",
       "      <td>BOCCONI</td>\n",
       "      <td>41.399448</td>\n",
       "      <td>2.121785</td>\n",
       "    </tr>\n",
       "  </tbody>\n",
       "</table>\n",
       "</div>"
      ],
      "text/plain": [
       "      name   latitude  longitude\n",
       "0  BOCCONI  41.399448   2.121785"
      ]
     },
     "execution_count": 10,
     "metadata": {},
     "output_type": "execute_result"
    }
   ],
   "source": [
    "df_rest.head(1)"
   ]
  },
  {
   "cell_type": "code",
   "execution_count": 11,
   "id": "cc707f0f",
   "metadata": {},
   "outputs": [
    {
     "data": {
      "text/html": [
       "<div>\n",
       "<style scoped>\n",
       "    .dataframe tbody tr th:only-of-type {\n",
       "        vertical-align: middle;\n",
       "    }\n",
       "\n",
       "    .dataframe tbody tr th {\n",
       "        vertical-align: top;\n",
       "    }\n",
       "\n",
       "    .dataframe thead th {\n",
       "        text-align: right;\n",
       "    }\n",
       "</style>\n",
       "<table border=\"1\" class=\"dataframe\">\n",
       "  <thead>\n",
       "    <tr style=\"text-align: right;\">\n",
       "      <th></th>\n",
       "      <th>name</th>\n",
       "      <th>latitude</th>\n",
       "      <th>longitude</th>\n",
       "      <th>category</th>\n",
       "    </tr>\n",
       "  </thead>\n",
       "  <tbody>\n",
       "    <tr>\n",
       "      <th>0</th>\n",
       "      <td>BOCCONI</td>\n",
       "      <td>41.399448</td>\n",
       "      <td>2.121785</td>\n",
       "      <td>restaurant</td>\n",
       "    </tr>\n",
       "  </tbody>\n",
       "</table>\n",
       "</div>"
      ],
      "text/plain": [
       "      name   latitude  longitude    category\n",
       "0  BOCCONI  41.399448   2.121785  restaurant"
      ]
     },
     "execution_count": 11,
     "metadata": {},
     "output_type": "execute_result"
    }
   ],
   "source": [
    "df_rest['category'] = 'restaurant'\n",
    "df_rest.head(1)"
   ]
  },
  {
   "cell_type": "markdown",
   "id": "116f80fd",
   "metadata": {},
   "source": [
    "## Museum"
   ]
  },
  {
   "cell_type": "code",
   "execution_count": 12,
   "id": "c1d18794",
   "metadata": {},
   "outputs": [],
   "source": [
    "# Load the JSON file\n",
    "file_path = 'museum.json'\n",
    "with open(file_path, 'r') as file:\n",
    "    data = json.load(file)"
   ]
  },
  {
   "cell_type": "code",
   "execution_count": 13,
   "id": "5a69f597",
   "metadata": {},
   "outputs": [],
   "source": [
    "# Extract place names and coordinates\n",
    "places = []\n",
    "for result in data['results']:\n",
    "    name = result['name']\n",
    "    lat = result['geometry']['location']['lat']\n",
    "    lng = result['geometry']['location']['lng']\n",
    "    places.append({'name': name, 'latitude': lat, 'longitude': lng})"
   ]
  },
  {
   "cell_type": "code",
   "execution_count": 14,
   "id": "9e698f6b",
   "metadata": {},
   "outputs": [],
   "source": [
    "# Convert to DataFrame\n",
    "df_museum = pd.DataFrame(places)"
   ]
  },
  {
   "cell_type": "code",
   "execution_count": 15,
   "id": "e33b45d4",
   "metadata": {},
   "outputs": [
    {
     "data": {
      "text/html": [
       "<div>\n",
       "<style scoped>\n",
       "    .dataframe tbody tr th:only-of-type {\n",
       "        vertical-align: middle;\n",
       "    }\n",
       "\n",
       "    .dataframe tbody tr th {\n",
       "        vertical-align: top;\n",
       "    }\n",
       "\n",
       "    .dataframe thead th {\n",
       "        text-align: right;\n",
       "    }\n",
       "</style>\n",
       "<table border=\"1\" class=\"dataframe\">\n",
       "  <thead>\n",
       "    <tr style=\"text-align: right;\">\n",
       "      <th></th>\n",
       "      <th>name</th>\n",
       "      <th>latitude</th>\n",
       "      <th>longitude</th>\n",
       "    </tr>\n",
       "  </thead>\n",
       "  <tbody>\n",
       "    <tr>\n",
       "      <th>0</th>\n",
       "      <td>Picasso Museum</td>\n",
       "      <td>41.385271</td>\n",
       "      <td>2.180947</td>\n",
       "    </tr>\n",
       "  </tbody>\n",
       "</table>\n",
       "</div>"
      ],
      "text/plain": [
       "             name   latitude  longitude\n",
       "0  Picasso Museum  41.385271   2.180947"
      ]
     },
     "execution_count": 15,
     "metadata": {},
     "output_type": "execute_result"
    }
   ],
   "source": [
    "df_museum.head(1)"
   ]
  },
  {
   "cell_type": "code",
   "execution_count": 16,
   "id": "874b9807",
   "metadata": {},
   "outputs": [
    {
     "data": {
      "text/html": [
       "<div>\n",
       "<style scoped>\n",
       "    .dataframe tbody tr th:only-of-type {\n",
       "        vertical-align: middle;\n",
       "    }\n",
       "\n",
       "    .dataframe tbody tr th {\n",
       "        vertical-align: top;\n",
       "    }\n",
       "\n",
       "    .dataframe thead th {\n",
       "        text-align: right;\n",
       "    }\n",
       "</style>\n",
       "<table border=\"1\" class=\"dataframe\">\n",
       "  <thead>\n",
       "    <tr style=\"text-align: right;\">\n",
       "      <th></th>\n",
       "      <th>name</th>\n",
       "      <th>latitude</th>\n",
       "      <th>longitude</th>\n",
       "      <th>category</th>\n",
       "    </tr>\n",
       "  </thead>\n",
       "  <tbody>\n",
       "    <tr>\n",
       "      <th>0</th>\n",
       "      <td>Picasso Museum</td>\n",
       "      <td>41.385271</td>\n",
       "      <td>2.180947</td>\n",
       "      <td>museum</td>\n",
       "    </tr>\n",
       "  </tbody>\n",
       "</table>\n",
       "</div>"
      ],
      "text/plain": [
       "             name   latitude  longitude category\n",
       "0  Picasso Museum  41.385271   2.180947   museum"
      ]
     },
     "execution_count": 16,
     "metadata": {},
     "output_type": "execute_result"
    }
   ],
   "source": [
    "df_museum['category'] = 'museum'\n",
    "df_museum.head(1)"
   ]
  },
  {
   "cell_type": "markdown",
   "id": "6fc6f291",
   "metadata": {},
   "source": [
    "## Union All"
   ]
  },
  {
   "cell_type": "code",
   "execution_count": 17,
   "id": "0fd233d5",
   "metadata": {},
   "outputs": [
    {
     "data": {
      "text/html": [
       "<div>\n",
       "<style scoped>\n",
       "    .dataframe tbody tr th:only-of-type {\n",
       "        vertical-align: middle;\n",
       "    }\n",
       "\n",
       "    .dataframe tbody tr th {\n",
       "        vertical-align: top;\n",
       "    }\n",
       "\n",
       "    .dataframe thead th {\n",
       "        text-align: right;\n",
       "    }\n",
       "</style>\n",
       "<table border=\"1\" class=\"dataframe\">\n",
       "  <thead>\n",
       "    <tr style=\"text-align: right;\">\n",
       "      <th></th>\n",
       "      <th>name</th>\n",
       "      <th>latitude</th>\n",
       "      <th>longitude</th>\n",
       "      <th>category</th>\n",
       "    </tr>\n",
       "  </thead>\n",
       "  <tbody>\n",
       "    <tr>\n",
       "      <th>0</th>\n",
       "      <td>Body Lab Fitness Barcelona</td>\n",
       "      <td>41.399642</td>\n",
       "      <td>2.119735</td>\n",
       "      <td>gym</td>\n",
       "    </tr>\n",
       "  </tbody>\n",
       "</table>\n",
       "</div>"
      ],
      "text/plain": [
       "                         name   latitude  longitude category\n",
       "0  Body Lab Fitness Barcelona  41.399642   2.119735      gym"
      ]
     },
     "execution_count": 17,
     "metadata": {},
     "output_type": "execute_result"
    }
   ],
   "source": [
    "df_places = pd.concat([df_gym, df_rest, df_museum], ignore_index=True)\n",
    "df_places.head(1)"
   ]
  },
  {
   "cell_type": "markdown",
   "id": "362aabe5",
   "metadata": {},
   "source": [
    "## Meetup Data"
   ]
  },
  {
   "cell_type": "code",
   "execution_count": 18,
   "id": "614d6f5c",
   "metadata": {},
   "outputs": [],
   "source": [
    "file_path_meetup = 'meetup.json'\n",
    "with open(file_path_meetup, 'r') as file:\n",
    "    meetup_data = json.load(file)"
   ]
  },
  {
   "cell_type": "code",
   "execution_count": 19,
   "id": "2b905ded",
   "metadata": {},
   "outputs": [],
   "source": [
    "# Extract place names and coordinates from the Google Maps links\n",
    "meetup_places = []\n",
    "for event in meetup_data:\n",
    "    name = event['title']\n",
    "    gmaps_link = event['gmaps_link']\n",
    "    lat, lng = gmaps_link.split('query=')[1].split('%2C%20')\n",
    "    meetup_places.append({'name': name, 'latitude': float(lat), 'longitude': float(lng)})"
   ]
  },
  {
   "cell_type": "code",
   "execution_count": 20,
   "id": "8a4b648d",
   "metadata": {
    "scrolled": true
   },
   "outputs": [
    {
     "data": {
      "text/html": [
       "<div>\n",
       "<style scoped>\n",
       "    .dataframe tbody tr th:only-of-type {\n",
       "        vertical-align: middle;\n",
       "    }\n",
       "\n",
       "    .dataframe tbody tr th {\n",
       "        vertical-align: top;\n",
       "    }\n",
       "\n",
       "    .dataframe thead th {\n",
       "        text-align: right;\n",
       "    }\n",
       "</style>\n",
       "<table border=\"1\" class=\"dataframe\">\n",
       "  <thead>\n",
       "    <tr style=\"text-align: right;\">\n",
       "      <th></th>\n",
       "      <th>name</th>\n",
       "      <th>latitude</th>\n",
       "      <th>longitude</th>\n",
       "    </tr>\n",
       "  </thead>\n",
       "  <tbody>\n",
       "    <tr>\n",
       "      <th>0</th>\n",
       "      <td>Coffee Walk &amp; Beach Sunset Hangout to Make New...</td>\n",
       "      <td>41.39655</td>\n",
       "      <td>2.194162</td>\n",
       "    </tr>\n",
       "  </tbody>\n",
       "</table>\n",
       "</div>"
      ],
      "text/plain": [
       "                                                name  latitude  longitude\n",
       "0  Coffee Walk & Beach Sunset Hangout to Make New...  41.39655   2.194162"
      ]
     },
     "execution_count": 20,
     "metadata": {},
     "output_type": "execute_result"
    }
   ],
   "source": [
    "# Convert to DataFrame\n",
    "df_meetup = pd.DataFrame(meetup_places)\n",
    "df_meetup.head(1)"
   ]
  },
  {
   "cell_type": "code",
   "execution_count": 21,
   "id": "8fe3b35e",
   "metadata": {},
   "outputs": [],
   "source": [
    "from geopy.distance import geodesic"
   ]
  },
  {
   "cell_type": "code",
   "execution_count": 22,
   "id": "c0917370",
   "metadata": {},
   "outputs": [],
   "source": [
    "nearest_places = []\n",
    "for index, row in df_meetup.iterrows():\n",
    "    defined_coordinate = (row['latitude'], row['longitude'])\n",
    "    df_places['distance'] = df_places.apply(lambda r: geodesic(defined_coordinate, (r['latitude'], r['longitude'])).kilometers, axis=1)\n",
    "    nearest = df_places.nsmallest(4, 'distance')[['name', 'latitude', 'longitude', 'distance']]\n",
    "    nearest['from_place'] = row['name']\n",
    "    nearest_places.append(nearest)"
   ]
  },
  {
   "cell_type": "code",
   "execution_count": 23,
   "id": "a203abfb",
   "metadata": {},
   "outputs": [],
   "source": [
    "# Concatenate all the nearest places DataFrames\n",
    "df_nearest_places = pd.concat(nearest_places, ignore_index=True)"
   ]
  },
  {
   "cell_type": "code",
   "execution_count": 25,
   "id": "40053737",
   "metadata": {},
   "outputs": [
    {
     "data": {
      "text/html": [
       "<div>\n",
       "<style scoped>\n",
       "    .dataframe tbody tr th:only-of-type {\n",
       "        vertical-align: middle;\n",
       "    }\n",
       "\n",
       "    .dataframe tbody tr th {\n",
       "        vertical-align: top;\n",
       "    }\n",
       "\n",
       "    .dataframe thead th {\n",
       "        text-align: right;\n",
       "    }\n",
       "</style>\n",
       "<table border=\"1\" class=\"dataframe\">\n",
       "  <thead>\n",
       "    <tr style=\"text-align: right;\">\n",
       "      <th></th>\n",
       "      <th>name</th>\n",
       "      <th>latitude</th>\n",
       "      <th>longitude</th>\n",
       "      <th>distance</th>\n",
       "      <th>from_place</th>\n",
       "    </tr>\n",
       "  </thead>\n",
       "  <tbody>\n",
       "    <tr>\n",
       "      <th>0</th>\n",
       "      <td>Design Museum of Barcelona</td>\n",
       "      <td>41.402453</td>\n",
       "      <td>2.188082</td>\n",
       "      <td>0.829684</td>\n",
       "      <td>Coffee Walk &amp; Beach Sunset Hangout to Make New...</td>\n",
       "    </tr>\n",
       "    <tr>\n",
       "      <th>1</th>\n",
       "      <td>Elsa y Fred</td>\n",
       "      <td>41.389793</td>\n",
       "      <td>2.179749</td>\n",
       "      <td>1.419918</td>\n",
       "      <td>Coffee Walk &amp; Beach Sunset Hangout to Make New...</td>\n",
       "    </tr>\n",
       "    <tr>\n",
       "      <th>2</th>\n",
       "      <td>Museu de la Xocolata</td>\n",
       "      <td>41.387356</td>\n",
       "      <td>2.181679</td>\n",
       "      <td>1.460345</td>\n",
       "      <td>Coffee Walk &amp; Beach Sunset Hangout to Make New...</td>\n",
       "    </tr>\n",
       "    <tr>\n",
       "      <th>3</th>\n",
       "      <td>Casa Lolea Barcelona</td>\n",
       "      <td>41.388900</td>\n",
       "      <td>2.177156</td>\n",
       "      <td>1.656750</td>\n",
       "      <td>Coffee Walk &amp; Beach Sunset Hangout to Make New...</td>\n",
       "    </tr>\n",
       "    <tr>\n",
       "      <th>4</th>\n",
       "      <td>Museum of the History of Catalonia</td>\n",
       "      <td>41.380804</td>\n",
       "      <td>2.185873</td>\n",
       "      <td>0.932970</td>\n",
       "      <td>🎧 SILENT ECSTATIC BEACH - Music, Art &amp; Meditat...</td>\n",
       "    </tr>\n",
       "  </tbody>\n",
       "</table>\n",
       "</div>"
      ],
      "text/plain": [
       "                                 name   latitude  longitude  distance  \\\n",
       "0          Design Museum of Barcelona  41.402453   2.188082  0.829684   \n",
       "1                         Elsa y Fred  41.389793   2.179749  1.419918   \n",
       "2                Museu de la Xocolata  41.387356   2.181679  1.460345   \n",
       "3                Casa Lolea Barcelona  41.388900   2.177156  1.656750   \n",
       "4  Museum of the History of Catalonia  41.380804   2.185873  0.932970   \n",
       "\n",
       "                                          from_place  \n",
       "0  Coffee Walk & Beach Sunset Hangout to Make New...  \n",
       "1  Coffee Walk & Beach Sunset Hangout to Make New...  \n",
       "2  Coffee Walk & Beach Sunset Hangout to Make New...  \n",
       "3  Coffee Walk & Beach Sunset Hangout to Make New...  \n",
       "4  🎧 SILENT ECSTATIC BEACH - Music, Art & Meditat...  "
      ]
     },
     "execution_count": 25,
     "metadata": {},
     "output_type": "execute_result"
    }
   ],
   "source": [
    "df_nearest_places.head()"
   ]
  }
 ],
 "metadata": {
  "kernelspec": {
   "display_name": "Python 3 (ipykernel)",
   "language": "python",
   "name": "python3"
  },
  "language_info": {
   "codemirror_mode": {
    "name": "ipython",
    "version": 3
   },
   "file_extension": ".py",
   "mimetype": "text/x-python",
   "name": "python",
   "nbconvert_exporter": "python",
   "pygments_lexer": "ipython3",
   "version": "3.11.5"
  }
 },
 "nbformat": 4,
 "nbformat_minor": 5
}
