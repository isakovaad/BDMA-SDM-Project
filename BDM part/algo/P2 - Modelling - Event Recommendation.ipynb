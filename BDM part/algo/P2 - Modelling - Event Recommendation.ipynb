{
 "cells": [
  {
   "cell_type": "code",
   "execution_count": 1,
   "id": "c6ec838e",
   "metadata": {},
   "outputs": [],
   "source": [
    "import pandas as pd\n",
    "import numpy as np\n",
    "from pyspark.sql import SparkSession\n",
    "from pyspark.sql import Row"
   ]
  },
  {
   "cell_type": "code",
   "execution_count": 2,
   "id": "c392c9c4",
   "metadata": {},
   "outputs": [
    {
     "name": "stderr",
     "output_type": "stream",
     "text": [
      "24/05/20 14:28:32 WARN Utils: Your hostname, Shofiyyahs-MacBook-Air.local resolves to a loopback address: 127.0.0.1; using 192.168.0.17 instead (on interface en0)\n",
      "24/05/20 14:28:32 WARN Utils: Set SPARK_LOCAL_IP if you need to bind to another address\n",
      "Setting default log level to \"WARN\".\n",
      "To adjust logging level use sc.setLogLevel(newLevel). For SparkR, use setLogLevel(newLevel).\n",
      "24/05/20 14:29:02 WARN NativeCodeLoader: Unable to load native-hadoop library for your platform... using builtin-java classes where applicable\n"
     ]
    }
   ],
   "source": [
    "spark = SparkSession.builder.appName(\"Recommendation System\").getOrCreate()"
   ]
  },
  {
   "cell_type": "code",
   "execution_count": 3,
   "id": "1a38e400",
   "metadata": {},
   "outputs": [
    {
     "name": "stdout",
     "output_type": "stream",
     "text": [
      "+----------+--------------------+------+--------------------+--------------+\n",
      "|      time|                text|rating|          place_name|place_category|\n",
      "+----------+--------------------+------+--------------------+--------------+\n",
      "|2011-12-30|You need to pay f...|     4|             ALIMARA| accommodation|\n",
      "|2012-09-26|For &quot;free&qu...|     4|             ALIMARA| accommodation|\n",
      "|2013-11-11|A wonderful place...|     5|           Agora BCN| accommodation|\n",
      "|2013-02-28|Very simply furni...|     4|           Agora BCN| accommodation|\n",
      "|2013-07-26|Nice place for yo...|     4|           Agora BCN| accommodation|\n",
      "|2011-11-19|It was far from t...|     4|        Inout Hostel| accommodation|\n",
      "|2011-06-27|This was easily o...|     5|        Inout Hostel| accommodation|\n",
      "|2011-06-16|Okay, it&#39;s no...|     5|Gran Hotel La Flo...| accommodation|\n",
      "|2012-08-09|A bit far from ci...|     4|Catalonia Park Güell| accommodation|\n",
      "|2013-09-20|I had a lovely vi...|     5|Bed and Breakfast...| accommodation|\n",
      "|2011-06-20|LOVED IT!! LOVED ...|     5|Bed and Breakfast...| accommodation|\n",
      "|2012-03-07|Margarita&#39;s p...|     5|Bed and Breakfast...| accommodation|\n",
      "|2008-03-03|What a fantastic ...|     5|Bed and Breakfast...| accommodation|\n",
      "|2010-02-20|I spent 1 week in...|     5|Bed and Breakfast...| accommodation|\n",
      "|2013-02-23|Great hostel to s...|     5|Albergue Studio H...| accommodation|\n",
      "|2013-04-16|Nice hostel! Room...|     5|Albergue Studio H...| accommodation|\n",
      "|2013-06-11|I stayed at his h...|     4|Albergue Studio H...| accommodation|\n",
      "|2007-12-24|Hi Stayed there d...|     5|Albergue Studio H...| accommodation|\n",
      "|2013-05-11|Carlos is the man...|     4|      Husa Pedralbes| accommodation|\n",
      "|2013-06-04|Clean, well servi...|     4|  Silken St. Gervasi| accommodation|\n",
      "+----------+--------------------+------+--------------------+--------------+\n",
      "only showing top 20 rows\n",
      "\n"
     ]
    }
   ],
   "source": [
    "post = spark.read.orc(\"data/post-20240407.orc\")\n",
    "post.show()"
   ]
  },
  {
   "cell_type": "code",
   "execution_count": 4,
   "id": "c7df6d78",
   "metadata": {},
   "outputs": [
    {
     "name": "stdout",
     "output_type": "stream",
     "text": [
      "+--------------------+--------------------+--------------------+--------------------+--------------------+--------------------+---------------------+--------------------+--------------------+\n",
      "|                 _id|               title|           hosted_by|          event_time|          gmaps_link|      vanue_location|vanue_location_detail|         description|              topics|\n",
      "+--------------------+--------------------+--------------------+--------------------+--------------------+--------------------+---------------------+--------------------+--------------------+\n",
      "|{65f8d6b76c9cc986...|Coffee Walk & Bea...|             Mary G.|Friday, April 5, ...|https://www.googl...|          Itnig Café| C. de Pujades, 10...|🗓️ FRI, APR 5 • ...|[Coffee, Social, ...|\n",
      "|{65f8d6b76c9cc986...|🎧 SILENT ECSTATI...|             Juli B.|Saturday, March 2...|https://www.googl...|      Espigó del Gas|      · Barcelona, CT|Do you imagine da...|[Dance Movement T...|\n",
      "|{65f8d6b76c9cc986...|Barcelona SRE Mee...|Marcos E. and Kyr...|Thursday, March 2...|https://www.googl...|OneCoWork Plaça C...| C/ d'Estruc, 9 · ...|At Preply , we're...|[DevOps, Infrastr...|\n",
      "|{65f8d6b76c9cc986...|Innovation beyond...|Adriana D. and 3 ...|Wednesday, March ...|https://www.googl...|        Itnig Spaces| C. de Pujades, 10...|🔴 IMPORTANT: Boo...|[Entrepreneurship...|\n",
      "|{65f8d6b76c9cc986...| 13th BcnRust Meetup|Roberto H. and Al...|Tuesday, March 26...|https://www.googl...|      Adevinta Spain| C/ de la Ciutat d...|¡Tenemos nuevo ev...|[Open Source, New...|\n",
      "|{65f8d6b76c9cc986...|⚡️⚡️ Lightning ta...|Duncan C. and 2 o...|Thursday, March 2...|https://www.googl...|          TravelPerk| C/ dels Almogàver...|We're back with a...|[LGBT, Profession...|\n",
      "|{65f8d6b76c9cc986...|🏝️ Easter in Cos...|            Noemi F.|Friday, March 29,...|https://www.googl...|         COSTA BRAVA| Cadaqués · Barcelona|😎 Hola everybody...|[Travel, Eating &...|\n",
      "|{65f8d6b76c9cc986...|“How to be elegan...|Juan Carlos �. an...|Wednesday, March ...|https://www.googl...|          ICON Hotel| C/ de Roger de Ll...|Hello community ?...|[Personal Develop...|\n",
      "|{65f8d6b76c9cc986...|#12 Meetup - UX S...|           Oliver G.|Thursday, April 4...|https://www.googl...|C/ de Santa Teres...| C/ de Santa Teres...|Join Us for Our N...|[New Technology, ...|\n",
      "|{65f8d6b76c9cc986...|          Queer love|    Lior and Elad D.|Tuesday, April 2,...|https://www.googl...|   Club 23 Barcelona| Rambla de Catalun...|Join us to celebr...|[Gay Professional...|\n",
      "|{65f8d6b76c9cc986...|Wine tasting, din...|           Ferran S.|Saturday, March 2...|https://www.googl...|Carretera de la B...| Carretera de la B...|Hello dear fellow...|[Gay Professional...|\n",
      "|{65f8d6b76c9cc986...|Hablar en Público...|            María G.|Wednesday, March ...|https://www.googl...|     C/ de Casp, 130| C/ de Casp, 130 ·...|El curso más TOP ...|[Communication Sk...|\n",
      "|{65f8d6b76c9cc986...|March 2024 meetin...|               Karen|Wednesday, March ...|https://www.googl...|             Mailuna| C/ de Valldonzell...|above photo: Arte...|[Coffee & Books, ...|\n",
      "|{65f8d6b76c9cc986...|Azure Pipelines: ...|Robert B. and 3 o...|Tuesday, March 19...|https://www.googl...|                SCRM| C/ de Bergara, 13...|En esta ocasión A...|[.NET, C#, ASP.NE...|\n",
      "|{65f8d6b76c9cc986...|Tiles Painting Wo...|            Ioana O.|Thursday, March 2...|https://www.googl...|Herboristería del...| Carrer del Vidre,...|Let your creativi...|[.NET, C#, ASP.NE...|\n",
      "|{65f8d6b76c9cc986...|Jueves de soltero...|    Estudio Somos A.|Thursday, March 2...|https://www.googl...|  Estudio Somos Arte| C/Saragossa 106 l...|¿Buscas una forma...|[.NET, C#, ASP.NE...|\n",
      "|{65f8d6b76c9cc986...|Jueves de soltero...|    Estudio Somos A.|Thursday, March 2...|https://www.googl...|  Estudio Somos Arte| C/Saragossa 106 l...|¿Buscas una forma...|[.NET, C#, ASP.NE...|\n",
      "|{65f8d6b76c9cc986...|Jueves de soltero...|    Estudio Somos A.|Thursday, April 4...|https://www.googl...|  Estudio Somos Arte| C/Saragossa 106 l...|¿Buscas una forma...|[.NET, C#, ASP.NE...|\n",
      "|{65f8d6b76c9cc986...|Jueves de soltero...|    Estudio Somos A.|Thursday, April 1...|https://www.googl...|  Estudio Somos Arte| C/Saragossa 106 l...|¿Buscas una forma...|[.NET, C#, ASP.NE...|\n",
      "|{65f8d6b76c9cc986...|Jueves de soltero...|    Estudio Somos A.|Thursday, April 1...|https://www.googl...|  Estudio Somos Arte| C/Saragossa 106 l...|¿Buscas una forma...|[.NET, C#, ASP.NE...|\n",
      "+--------------------+--------------------+--------------------+--------------------+--------------------+--------------------+---------------------+--------------------+--------------------+\n",
      "only showing top 20 rows\n",
      "\n"
     ]
    }
   ],
   "source": [
    "event = spark.read.orc(\"data/meetup-20240407.orc\")\n",
    "event.show()"
   ]
  },
  {
   "cell_type": "code",
   "execution_count": 5,
   "id": "03509bff",
   "metadata": {},
   "outputs": [],
   "source": [
    "new_post = [Row(time=\"2023-11-28\", text=\"The hotel is conveniently located in the city center, making it easy to access popular attractions and dining options. The staff were friendly and helpful, always ready to assist with any inquiries or requests.\",\n",
    "               rating=5, place_name=\"Ibis Hotel\", place_category=\"accommodation\")]\n",
    "new_post = spark.createDataFrame(new_post)"
   ]
  },
  {
   "cell_type": "code",
   "execution_count": 6,
   "id": "b7006581",
   "metadata": {},
   "outputs": [],
   "source": [
    "post = post.union(new_post)"
   ]
  },
  {
   "cell_type": "code",
   "execution_count": 7,
   "id": "ec0d4221",
   "metadata": {},
   "outputs": [
    {
     "name": "stdout",
     "output_type": "stream",
     "text": [
      "+----------+--------------------+------+--------------------+--------------+\n",
      "|      time|                text|rating|          place_name|place_category|\n",
      "+----------+--------------------+------+--------------------+--------------+\n",
      "|2011-12-30|You need to pay f...|     4|             ALIMARA| accommodation|\n",
      "|2012-09-26|For &quot;free&qu...|     4|             ALIMARA| accommodation|\n",
      "|2013-11-11|A wonderful place...|     5|           Agora BCN| accommodation|\n",
      "|2013-02-28|Very simply furni...|     4|           Agora BCN| accommodation|\n",
      "|2013-07-26|Nice place for yo...|     4|           Agora BCN| accommodation|\n",
      "|2011-11-19|It was far from t...|     4|        Inout Hostel| accommodation|\n",
      "|2011-06-27|This was easily o...|     5|        Inout Hostel| accommodation|\n",
      "|2011-06-16|Okay, it&#39;s no...|     5|Gran Hotel La Flo...| accommodation|\n",
      "|2012-08-09|A bit far from ci...|     4|Catalonia Park Güell| accommodation|\n",
      "|2013-09-20|I had a lovely vi...|     5|Bed and Breakfast...| accommodation|\n",
      "|2011-06-20|LOVED IT!! LOVED ...|     5|Bed and Breakfast...| accommodation|\n",
      "|2012-03-07|Margarita&#39;s p...|     5|Bed and Breakfast...| accommodation|\n",
      "|2008-03-03|What a fantastic ...|     5|Bed and Breakfast...| accommodation|\n",
      "|2010-02-20|I spent 1 week in...|     5|Bed and Breakfast...| accommodation|\n",
      "|2013-02-23|Great hostel to s...|     5|Albergue Studio H...| accommodation|\n",
      "|2013-04-16|Nice hostel! Room...|     5|Albergue Studio H...| accommodation|\n",
      "|2013-06-11|I stayed at his h...|     4|Albergue Studio H...| accommodation|\n",
      "|2007-12-24|Hi Stayed there d...|     5|Albergue Studio H...| accommodation|\n",
      "|2013-05-11|Carlos is the man...|     4|      Husa Pedralbes| accommodation|\n",
      "|2013-06-04|Clean, well servi...|     4|  Silken St. Gervasi| accommodation|\n",
      "+----------+--------------------+------+--------------------+--------------+\n",
      "only showing top 20 rows\n",
      "\n"
     ]
    }
   ],
   "source": [
    "post.show()"
   ]
  },
  {
   "cell_type": "markdown",
   "id": "0b85d0ed",
   "metadata": {},
   "source": [
    "## Modelling"
   ]
  },
  {
   "cell_type": "code",
   "execution_count": 8,
   "id": "3d39617e",
   "metadata": {},
   "outputs": [
    {
     "name": "stderr",
     "output_type": "stream",
     "text": [
      "[nltk_data] Downloading package punkt to\n",
      "[nltk_data]     /Users/shofiyyahnadhiroh/nltk_data...\n",
      "[nltk_data]   Package punkt is already up-to-date!\n",
      "[nltk_data] Downloading package averaged_perceptron_tagger to\n",
      "[nltk_data]     /Users/shofiyyahnadhiroh/nltk_data...\n",
      "[nltk_data]   Package averaged_perceptron_tagger is already up-to-\n",
      "[nltk_data]       date!\n",
      "[nltk_data] Downloading package wordnet to\n",
      "[nltk_data]     /Users/shofiyyahnadhiroh/nltk_data...\n",
      "[nltk_data]   Package wordnet is already up-to-date!\n",
      "[nltk_data] Downloading package stopwords to\n",
      "[nltk_data]     /Users/shofiyyahnadhiroh/nltk_data...\n",
      "[nltk_data]   Package stopwords is already up-to-date!\n"
     ]
    }
   ],
   "source": [
    "from pyspark.sql.functions import udf\n",
    "from pyspark.sql.types import StringType\n",
    "import nltk\n",
    "from nltk.stem import WordNetLemmatizer\n",
    "from nltk.corpus import stopwords\n",
    "from nltk.tokenize import word_tokenize\n",
    "from nltk import pos_tag\n",
    "\n",
    "nltk.download('punkt')\n",
    "nltk.download('averaged_perceptron_tagger')\n",
    "nltk.download('wordnet')\n",
    "nltk.download('stopwords')\n",
    "\n",
    "lemmatizer = WordNetLemmatizer()\n",
    "stop_words = set(stopwords.words('english'))\n",
    "VERB_CODES = {'VB', 'VBD', 'VBG', 'VBN', 'VBP', 'VBZ'}"
   ]
  },
  {
   "cell_type": "code",
   "execution_count": 9,
   "id": "8057cff3",
   "metadata": {},
   "outputs": [],
   "source": [
    "def preprocess_sentences(text):\n",
    "    text = text.lower()\n",
    "    temp_sent = []\n",
    "    words = word_tokenize(text)\n",
    "    tags = pos_tag(words)\n",
    "    \n",
    "    for i, word in enumerate(words):\n",
    "        if tags[i][1] in VERB_CODES:\n",
    "            lemmatized = lemmatizer.lemmatize(word, 'v')\n",
    "        else:\n",
    "            lemmatized = lemmatizer.lemmatize(word)\n",
    "        if lemmatized not in stop_words and lemmatized.isalpha():\n",
    "            temp_sent.append(lemmatized)\n",
    "    \n",
    "    finalsent = ' '.join(temp_sent)\n",
    "    finalsent = finalsent.replace(\"n't\", \" not\")\n",
    "    finalsent = finalsent.replace(\"'m\", \" am\")\n",
    "    finalsent = finalsent.replace(\"'s\", \" is\")\n",
    "    finalsent = finalsent.replace(\"'re\", \" are\")\n",
    "    finalsent = finalsent.replace(\"'ll\", \" will\")\n",
    "    finalsent = finalsent.replace(\"'ve\", \" have\")\n",
    "    finalsent = finalsent.replace(\"'d\", \" would\")\n",
    "    \n",
    "    return finalsent"
   ]
  },
  {
   "cell_type": "code",
   "execution_count": 10,
   "id": "bafc7c84",
   "metadata": {},
   "outputs": [],
   "source": [
    "preprocess_udf = udf(preprocess_sentences, StringType())"
   ]
  },
  {
   "cell_type": "code",
   "execution_count": 11,
   "id": "99e2ca54",
   "metadata": {
    "scrolled": true
   },
   "outputs": [
    {
     "name": "stderr",
     "output_type": "stream",
     "text": [
      "\r",
      "[Stage 3:>                                                          (0 + 1) / 1]\r"
     ]
    },
    {
     "name": "stdout",
     "output_type": "stream",
     "text": [
      "+----------+--------------------+------+--------------------+--------------+--------------------+\n",
      "|      time|                text|rating|          place_name|place_category|           text_proc|\n",
      "+----------+--------------------+------+--------------------+--------------+--------------------+\n",
      "|2011-12-30|You need to pay f...|     4|             ALIMARA| accommodation|need pay internet...|\n",
      "|2012-09-26|For &quot;free&qu...|     4|             ALIMARA| accommodation|quot free quot wi...|\n",
      "|2013-11-11|A wonderful place...|     5|           Agora BCN| accommodation|wonderful place s...|\n",
      "|2013-02-28|Very simply furni...|     4|           Agora BCN| accommodation|simply furnished ...|\n",
      "|2013-07-26|Nice place for yo...|     4|           Agora BCN| accommodation|nice place young ...|\n",
      "|2011-11-19|It was far from t...|     4|        Inout Hostel| accommodation|far center barcel...|\n",
      "|2011-06-27|This was easily o...|     5|        Inout Hostel| accommodation|easily one best h...|\n",
      "|2011-06-16|Okay, it&#39;s no...|     5|Gran Hotel La Flo...| accommodation|okay cheap want s...|\n",
      "|2012-08-09|A bit far from ci...|     4|Catalonia Park Güell| accommodation|bit far city cent...|\n",
      "|2013-09-20|I had a lovely vi...|     5|Bed and Breakfast...| accommodation|lovely visit amig...|\n",
      "|2011-06-20|LOVED IT!! LOVED ...|     5|Bed and Breakfast...| accommodation|love love love fe...|\n",
      "|2012-03-07|Margarita&#39;s p...|     5|Bed and Breakfast...| accommodation|margarita place l...|\n",
      "|2008-03-03|What a fantastic ...|     5|Bed and Breakfast...| accommodation|fantastic find gr...|\n",
      "|2010-02-20|I spent 1 week in...|     5|Bed and Breakfast...| accommodation|spend week bcn bu...|\n",
      "|2013-02-23|Great hostel to s...|     5|Albergue Studio H...| accommodation|great hostel stay...|\n",
      "|2013-04-16|Nice hostel! Room...|     5|Albergue Studio H...| accommodation|nice hostel room ...|\n",
      "|2013-06-11|I stayed at his h...|     4|Albergue Studio H...| accommodation|stay hostel two y...|\n",
      "|2007-12-24|Hi Stayed there d...|     5|Albergue Studio H...| accommodation|hi stay summer ex...|\n",
      "|2013-05-11|Carlos is the man...|     4|      Husa Pedralbes| accommodation|carlos man help u...|\n",
      "|2013-06-04|Clean, well servi...|     4|  Silken St. Gervasi| accommodation|clean well servic...|\n",
      "+----------+--------------------+------+--------------------+--------------+--------------------+\n",
      "only showing top 20 rows\n",
      "\n"
     ]
    },
    {
     "name": "stderr",
     "output_type": "stream",
     "text": [
      "\r",
      "                                                                                \r"
     ]
    }
   ],
   "source": [
    "post = post.withColumn(\"text_proc\", preprocess_udf(post[\"text\"]))\n",
    "post.show()"
   ]
  },
  {
   "cell_type": "code",
   "execution_count": 12,
   "id": "f32b06b3",
   "metadata": {},
   "outputs": [],
   "source": [
    "from pyspark.ml.feature import Tokenizer, CountVectorizer\n",
    "from pyspark.ml.linalg import Vectors, VectorUDT\n",
    "import numpy as np\n",
    "from sklearn.metrics.pairwise import cosine_similarity"
   ]
  },
  {
   "cell_type": "code",
   "execution_count": 13,
   "id": "fca02c4a",
   "metadata": {
    "scrolled": true
   },
   "outputs": [],
   "source": [
    "tokenizer = Tokenizer(inputCol=\"text_proc\", outputCol=\"text_proc_tokens\")\n",
    "post = tokenizer.transform(post)"
   ]
  },
  {
   "cell_type": "code",
   "execution_count": 14,
   "id": "f1c45453",
   "metadata": {},
   "outputs": [
    {
     "name": "stderr",
     "output_type": "stream",
     "text": [
      "                                                                                \r"
     ]
    }
   ],
   "source": [
    "cv = CountVectorizer(inputCol=\"text_proc_tokens\", outputCol=\"features\")\n",
    "\n",
    "cv_model = cv.fit(post)\n",
    "post = cv_model.transform(post)"
   ]
  },
  {
   "cell_type": "code",
   "execution_count": 15,
   "id": "49e850c0",
   "metadata": {},
   "outputs": [],
   "source": [
    "def sparse_to_dense(sparse_vector):\n",
    "    return Vectors.dense(sparse_vector.toArray())"
   ]
  },
  {
   "cell_type": "code",
   "execution_count": 16,
   "id": "84ada027",
   "metadata": {},
   "outputs": [],
   "source": [
    "sparse_to_dense_udf = udf(sparse_to_dense, VectorUDT())\n",
    "post = post.withColumn(\"dense_features\", sparse_to_dense_udf(post[\"features\"]))"
   ]
  },
  {
   "cell_type": "code",
   "execution_count": 17,
   "id": "72559c0f",
   "metadata": {},
   "outputs": [
    {
     "name": "stderr",
     "output_type": "stream",
     "text": [
      "                                                                                \r"
     ]
    },
    {
     "name": "stdout",
     "output_type": "stream",
     "text": [
      "[[1.         0.         0.10112998 ... 0.07009996 0.09090909 0.14301939]\n",
      " [0.         1.         0.04225771 ... 0.04393748 0.11396058 0.05976143]\n",
      " [0.10112998 0.04225771 1.         ... 0.2079501  0.13483997 0.03535534]\n",
      " ...\n",
      " [0.07009996 0.04393748 0.2079501  ... 1.         0.45564976 0.07352146]\n",
      " [0.09090909 0.11396058 0.13483997 ... 0.45564976 1.         0.04767313]\n",
      " [0.14301939 0.05976143 0.03535534 ... 0.07352146 0.04767313 1.        ]]\n"
     ]
    }
   ],
   "source": [
    "dense_features = post.select(\"dense_features\").collect()\n",
    "dense_feature_array = np.array([row[\"dense_features\"].toArray() for row in dense_features])\n",
    "cosine_sim = cosine_similarity(dense_feature_array)\n",
    "print(cosine_sim)"
   ]
  },
  {
   "cell_type": "code",
   "execution_count": 18,
   "id": "e7fedc16",
   "metadata": {},
   "outputs": [],
   "source": [
    "latest_post_similarities = cosine_sim[len(dense_feature_array) - 1]"
   ]
  },
  {
   "cell_type": "code",
   "execution_count": 19,
   "id": "c81f5057",
   "metadata": {},
   "outputs": [],
   "source": [
    "similarity_list = list(enumerate(latest_post_similarities))"
   ]
  },
  {
   "cell_type": "code",
   "execution_count": 20,
   "id": "91a8316d",
   "metadata": {},
   "outputs": [],
   "source": [
    "sorted_similarities = sorted(similarity_list, key=lambda x: x[1], reverse=True)"
   ]
  },
  {
   "cell_type": "code",
   "execution_count": 21,
   "id": "d9baabaa",
   "metadata": {},
   "outputs": [
    {
     "data": {
      "text/plain": [
       "[(150, 1.0),\n",
       " (111, 0.25819888974716115),\n",
       " (74, 0.23312620206007845),\n",
       " (136, 0.22934123614693147),\n",
       " (145, 0.2201927530252721),\n",
       " (20, 0.21516574145596762),\n",
       " (79, 0.2091650066335189),\n",
       " (23, 0.20412414523193148),\n",
       " (106, 0.20225995873897265),\n",
       " (24, 0.19999999999999998),\n",
       " (71, 0.19999999999999998),\n",
       " (66, 0.1978141420187361),\n",
       " (17, 0.19518001458970666),\n",
       " (34, 0.19462473604038075),\n",
       " (65, 0.1892057519422899),\n",
       " (19, 0.18650096164806276),\n",
       " (117, 0.18633899812498247),\n",
       " (110, 0.17928429140015906),\n",
       " (62, 0.17837651700316892),\n",
       " (108, 0.1732050807568877),\n",
       " (94, 0.1690308509457033),\n",
       " (67, 0.16484511834894675),\n",
       " (32, 0.16269784336399212),\n",
       " (138, 0.15811388300841897),\n",
       " (89, 0.15811388300841894),\n",
       " (131, 0.1556997888323046),\n",
       " (30, 0.1538967528127731),\n",
       " (99, 0.14907119849998596),\n",
       " (0, 0.14301938838683884),\n",
       " (129, 0.13987572123604708),\n",
       " (47, 0.1341640786499874),\n",
       " (123, 0.1341640786499874),\n",
       " (76, 0.13333333333333333),\n",
       " (46, 0.1318760946791574),\n",
       " (69, 0.13176156917368248),\n",
       " (44, 0.12909944487358055),\n",
       " (139, 0.12823007845327958),\n",
       " (50, 0.12649110640673517),\n",
       " (3, 0.12285902336679023),\n",
       " (6, 0.1224744871391589),\n",
       " (61, 0.11952286093343936),\n",
       " (33, 0.11180339887498948),\n",
       " (56, 0.11070186069251192),\n",
       " (25, 0.10540925533894599),\n",
       " (45, 0.10476454436543672),\n",
       " (113, 0.1025978352085154),\n",
       " (16, 0.09999999999999999),\n",
       " (40, 0.09999999999999999),\n",
       " (51, 0.09999999999999999),\n",
       " (68, 0.09890707100936805),\n",
       " (96, 0.09759000729485331),\n",
       " (36, 0.09583148474999098),\n",
       " (12, 0.09486832980505137),\n",
       " (14, 0.09214426752509268),\n",
       " (21, 0.09128709291752769),\n",
       " (37, 0.09128709291752769),\n",
       " (43, 0.09128709291752769),\n",
       " (48, 0.09128709291752769),\n",
       " (87, 0.09128709291752769),\n",
       " (103, 0.09128709291752769),\n",
       " (130, 0.09128709291752769),\n",
       " (133, 0.09128709291752769),\n",
       " (77, 0.09068453126375145),\n",
       " (5, 0.08451542547285165),\n",
       " (101, 0.08451542547285165),\n",
       " (10, 0.08257228238447704),\n",
       " (49, 0.0816496580927726),\n",
       " (147, 0.0816496580927726),\n",
       " (121, 0.07905694150420947),\n",
       " (137, 0.0778498944161523),\n",
       " (102, 0.0761386987626881),\n",
       " (59, 0.07453559924999298),\n",
       " (73, 0.07453559924999298),\n",
       " (143, 0.07352146220938077),\n",
       " (148, 0.07352146220938077),\n",
       " (144, 0.07254762501100116),\n",
       " (63, 0.07071067811865475),\n",
       " (124, 0.07071067811865475),\n",
       " (132, 0.06984302957695782),\n",
       " (15, 0.06685262704648756),\n",
       " (8, 0.06666666666666667),\n",
       " (81, 0.0659380473395787),\n",
       " (86, 0.06454972243679029),\n",
       " (13, 0.06388765649999399),\n",
       " (75, 0.06201736729460423),\n",
       " (125, 0.06201736729460423),\n",
       " (1, 0.05976143046671968),\n",
       " (53, 0.05976143046671968),\n",
       " (120, 0.05773502691896257),\n",
       " (72, 0.05590169943749474),\n",
       " (118, 0.05547001962252292),\n",
       " (22, 0.05423261445466404),\n",
       " (52, 0.05423261445466404),\n",
       " (127, 0.05234239225902137),\n",
       " (112, 0.05031546054266276),\n",
       " (98, 0.04767312946227961),\n",
       " (149, 0.04767312946227961),\n",
       " (141, 0.04449941594899848),\n",
       " (84, 0.04244763599780089),\n",
       " (88, 0.04134491152973615),\n",
       " (54, 0.03892494720807615),\n",
       " (31, 0.03779644730092272),\n",
       " (9, 0.03580574370197164),\n",
       " (2, 0.035355339059327376),\n",
       " (109, 0.03492151478847891),\n",
       " (83, 0.034099716973523674),\n",
       " (11, 0.032274861218395144),\n",
       " (82, 0.02862991671569341),\n",
       " (128, 0.023312620206007845),\n",
       " (4, 0.0),\n",
       " (7, 0.0),\n",
       " (18, 0.0),\n",
       " (26, 0.0),\n",
       " (27, 0.0),\n",
       " (28, 0.0),\n",
       " (29, 0.0),\n",
       " (35, 0.0),\n",
       " (38, 0.0),\n",
       " (39, 0.0),\n",
       " (41, 0.0),\n",
       " (42, 0.0),\n",
       " (55, 0.0),\n",
       " (57, 0.0),\n",
       " (58, 0.0),\n",
       " (60, 0.0),\n",
       " (64, 0.0),\n",
       " (70, 0.0),\n",
       " (78, 0.0),\n",
       " (80, 0.0),\n",
       " (85, 0.0),\n",
       " (90, 0.0),\n",
       " (91, 0.0),\n",
       " (92, 0.0),\n",
       " (93, 0.0),\n",
       " (95, 0.0),\n",
       " (97, 0.0),\n",
       " (100, 0.0),\n",
       " (104, 0.0),\n",
       " (105, 0.0),\n",
       " (107, 0.0),\n",
       " (114, 0.0),\n",
       " (115, 0.0),\n",
       " (116, 0.0),\n",
       " (119, 0.0),\n",
       " (122, 0.0),\n",
       " (126, 0.0),\n",
       " (134, 0.0),\n",
       " (135, 0.0),\n",
       " (140, 0.0),\n",
       " (142, 0.0),\n",
       " (146, 0.0)]"
      ]
     },
     "execution_count": 21,
     "metadata": {},
     "output_type": "execute_result"
    }
   ],
   "source": [
    "sorted_similarities"
   ]
  },
  {
   "cell_type": "code",
   "execution_count": 22,
   "id": "57afe933",
   "metadata": {},
   "outputs": [
    {
     "name": "stderr",
     "output_type": "stream",
     "text": [
      "                                                                                \r"
     ]
    },
    {
     "name": "stdout",
     "output_type": "stream",
     "text": [
      "+----------+--------------------------------------------------------------------------------------------------------------------------------------------------------------------------------------------------------------------------------------------------------------------------------------------------------------------------------------------------------------------------------------------------------------------------------------------------------------------------------------------------------------------------------------------------------------------------------------------------------------------------------------------------------------------------------------------------------------------------------------------------------------------------------------------------------------------------------------------------------------------------------------------------------------------------------------------------------------------------------------------------------------------------------------------------------------------------------------------------------------------------------------------------------------------------------------------------------------------------------------------------------------------------+------+--------------------------------------+--------------+\n",
      "|time      |text                                                                                                                                                                                                                                                                                                                                                                                                                                                                                                                                                                                                                                                                                                                                                                                                                                                                                                                                                                                                                                                                                                                                                                                                                                                                      |rating|place_name                            |place_category|\n",
      "+----------+--------------------------------------------------------------------------------------------------------------------------------------------------------------------------------------------------------------------------------------------------------------------------------------------------------------------------------------------------------------------------------------------------------------------------------------------------------------------------------------------------------------------------------------------------------------------------------------------------------------------------------------------------------------------------------------------------------------------------------------------------------------------------------------------------------------------------------------------------------------------------------------------------------------------------------------------------------------------------------------------------------------------------------------------------------------------------------------------------------------------------------------------------------------------------------------------------------------------------------------------------------------------------+------+--------------------------------------+--------------+\n",
      "|2023-11-28|The hotel is conveniently located in the city center, making it easy to access popular attractions and dining options. The staff were friendly and helpful, always ready to assist with any inquiries or requests.                                                                                                                                                                                                                                                                                                                                                                                                                                                                                                                                                                                                                                                                                                                                                                                                                                                                                                                                                                                                                                                        |5     |Ibis Hotel                            |accommodation |\n",
      "|2012-12-26|Great modern hotel right in the center of the old city. Breakfast is ok, rooms are very clean and pool on the roof is very relaxing. 24 hour service at the desk and very friendly and helpful people. Overall great hotel!                                                                                                                                                                                                                                                                                                                                                                                                                                                                                                                                                                                                                                                                                                                                                                                                                                                                                                                                                                                                                                               |4     |Hotel Sagrada Familia                 |accommodation |\n",
      "|2009-05-25|My girlfriend and I just returned from a week in Barcelona where we stayed in Guillermo Tell. It is a lovely hotel, clean and have friendly staff. I will highly recommend this hotel since it is situated in a well connected part of the city.                                                                                                                                                                                                                                                                                                                                                                                                                                                                                                                                                                                                                                                                                                                                                                                                                                                                                                                                                                                                                          |5     |Hotel Guillermo Tell                  |accommodation |\n",
      "|2010-02-08|This hotel truly has a wonderful European Touch. The location is great and it is very close to the amazing public transportation in Barcelona. It is so easy and convenient getting around town and this hotel is located in a very good area. In addition, it is surrounded by small wonderful restaurants with incredible food. The rooms are small, but very urban in nature. You can see the life of the city from your room. It is very clean and cute. Do not expect a spacious room, but it has enough space. The breakfast was very good and convenient. The staff is very helpful with directions and attractions. Barcelona is beautiful and you should go! I recommend this hotel!                                                                                                                                                                                                                                                                                                                                                                                                                                                                                                                                                                             |4     |Hotel Aranea                          |accommodation |\n",
      "|2012-09-20|We stayed here for 5 days and we really like it! The room is modern design and quite spacious. The hotel is conveniently located near Passeig de Gracia station, where there are 3 major subway lines and the airport train R2 comes here as well. We walked to Sagra Familia, Las Ramblas, La Boqueria Market and Catalunya Plaza.The hotel has a tiny pool but it doesn&#39;t really do much. The terrace is a nice hangout spot though. The staff are very friendly and helpful. I would highly recommend staying at Euro-Park if you are looking for a good value hotel.                                                                                                                                                                                                                                                                                                                                                                                                                                                                                                                                                                                                                                                                                              |5     |Hotel Europark                        |accommodation |\n",
      "|2009-04-28|The Silken St. Gervasi is a nice hotel in the city of barcelona. It is close to the subway (300m to Pudex L7), a ride to the city center takes only 12 minutes. My room was quite nice, tidy an so on. In sum I can recommend this hotel.                                                                                                                                                                                                                                                                                                                                                                                                                                                                                                                                                                                                                                                                                                                                                                                                                                                                                                                                                                                                                                 |4     |Silken St. Gervasi                    |accommodation |\n",
      "|2011-02-18|Fist time staying in hostal. Came for MWC event and was pleasantly surprised. Rooms, bathrooms and corridors are cleaned every day, staff is polite and helpful. If you do not mind sharing a bathroom with others (and there are several bathrooms here, so you don&#39;t ever wait in line), it is a great place to stay. Easy access to the city center (bus 58 or metro) makes it a great place to stay.                                                                                                                                                                                                                                                                                                                                                                                                                                                                                                                                                                                                                                                                                                                                                                                                                                                              |5     |Hostal Valls                          |accommodation |\n",
      "|2013-08-14|Very nice hotel, located in a nice area, close to Park Güell. It was clean and the staff were very helpful. I loved the big terrace of the room. What I didn&#39;t like was that the bathtub had a glass side panel and it was a bit small for me. Also the hotel parking was full                                                                                                                                                                                                                                                                                                                                                                                                                                                                                                                                                                                                                                                                                                                                                                                                                                                                                                                                                                                        |4     |Hotel Eurostars Mitre                 |accommodation |\n",
      "|2012-12-11|By far one of the best hostels in Barcelona. Excellent location and best value and quality of service made my experience in Barcelona amazing. The staff is very helpful and always ready to show a smile and a joke with very useful tips... very recommended!! the neighbourhood is very nice and calm, perfect for barcelona, as you walk 10 minutes and you are in the hearth of the city most attractive spots.                                                                                                                                                                                                                                                                                                                                                                                                                                                                                                                                                                                                                                                                                                                                                                                                                                                      |5     |Gràcia City Hostel Barcelona          |accommodation |\n",
      "|2013-01-31|I was surprise for the price that I booked and expecting the worst, the hotel is cleaned, modern and the bedroom was great. If you are planning to use the metro, be ready to walk for 15 minutes, before you get there, but the staff was really helpful.                                                                                                                                                                                                                                                                                                                                                                                                                                                                                                                                                                                                                                                                                                                                                                                                                                                                                                                                                                                                                |4     |Hotel Eurostars Mitre                 |accommodation |\n",
      "|2011-05-14|Friendly Staff, helpful front desk, great breakfasts, dinner not so great. Comfortable rooms with WiFi. Short walk to city centre. Three thumbs up!                                                                                                                                                                                                                                                                                                                                                                                                                                                                                                                                                                                                                                                                                                                                                                                                                                                                                                                                                                                                                                                                                                                       |4     |Hotel Zenit Barcelona                 |accommodation |\n",
      "|2013-07-26|For declared 3 star hotel is excellent. Staff is understanding English very well and is helpful. Location also was perfect, as it was close to Diagonal, which was helping not to get lost in the city. From hotel walk to Sagrada Familia was taking around 15 minutes. Rooms are very comfortable, cleaning also was at very high level. Loved this hotel, for next visit to Barcelona will definitely book it again                                                                                                                                                                                                                                                                                                                                                                                                                                                                                                                                                                                                                                                                                                                                                                                                                                                    |5     |Condado                               |accommodation |\n",
      "|2007-12-24|Hi Stayed there during the summer, excellent hostel, very colse to the city center, turist bus goes from Plaza sarria couple of minutes walk from the hostel. Very friendly staff.                                                                                                                                                                                                                                                                                                                                                                                                                                                                                                                                                                                                                                                                                                                                                                                                                                                                                                                                                                                                                                                                                        |5     |Albergue Studio Hostel                |accommodation |\n",
      "|2013-08-22|Very Nice Hotel! Friendly staff always ready for help. The centre of Barcelona is easily reached by metro (10 minute walking distance). And the shoppingmall La Maquinista is next door. Less than a minute walking distance. Very Nice!                                                                                                                                                                                                                                                                                                                                                                                                                                                                                                                                                                                                                                                                                                                                                                                                                                                                                                                                                                                                                                  |5     |NH La Maquinista                      |accommodation |\n",
      "|2010-09-01|I stayed at this hotel from August 20th till August 25th 2010. It was a delight. Never been in a better hotel so far. The rooms are big, large I could say. Excellent service. I recommend that you take the breakfast pack because you&#39;ll end up much cheaper than just paying there for it. The hotel is close to whatever you want to visit. Just take the subway and you are there. It&#39;s close to the Avenida Diagonal street and from there you can visit La Pedrera and other sites. Breakfast is diverse and delicious. Oh! Not to forget about the staff. They are very helpful. Whatever information you might need just ask and they will help. They also have tickets at the hotel for the main attractions. so if you by from the hotel you don&#39;t have to wait in line for buying one. We thought it&#39;s not necessary when we went to teh Sagrada Famillia and we ended up staying about 15 minutes on the line. I thought Barcelona would be more spectacular, but it wasn&#39;t. So I would come back to Barcelona only to see what I&#39;ve missed and I would defenely stay at Aparthotel Mariano Cubi. It&#39;s in the city center, but on a quite street. By the way, the rooms are exactly what you see in the pics. Great, great hotel!|5     |Aparthotel Mariano Cubi               |accommodation |\n",
      "|2013-06-04|Clean, well serviced, mid-sized hotel. No boutique pretensions thankfully, despite being pretty modern design-wise and easy on the eye. An easy twenty minute stroll downhill to tons of popular bars/restaurants. Nice place.                                                                                                                                                                                                                                                                                                                                                                                                                                                                                                                                                                                                                                                                                                                                                                                                                                                                                                                                                                                                                                            |4     |Silken St. Gervasi                    |accommodation |\n",
      "|2010-05-11|I enjoyed my stay since the moment I arrived at Hispano Siete Suiza Hotel in April 2010: the way I was received, the excellent family room, the greatly prepared staff able to answer all my questions. Besides that, the hotel is very well located, close to the amazing Sagrada Familia, to the public transportation, charming bakeries, cafes, fruit stores, and restaurants. There&#39;s something I will never forget abou my stay: at the airport, due to the aerial chaos, I was told I couldn&#39;t fly to Paris with my family as I had planned and then called to the hotel to check if we could return. They said they had no availability anymore but made arrangements for us to stay in a partner hotel. Among so much stress and disappointment with the unpredictible situation their help was fundamental; at that point finding a hotel in Barcelona seemed impossible. I am so thankful for all they did for me and my family. I strongly recommend this hotel and also their parter, Wilson Hotel, at Diagonal Ave.                                                                                                                                                                                                                                 |5     |Hispanos 7 Suiza Apartament-Restaurant|accommodation |\n",
      "|2013-03-31|Great value. Really nice room: well-designed, clean and new-looking. Wifi worked fine. Didn&#39;t have breakfast so can&#39;t comment. Staff were friendly and helpful.                                                                                                                                                                                                                                                                                                                                                                                                                                                                                                                                                                                                                                                                                                                                                                                                                                                                                                                                                                                                                                                                                                   |4     |Hotel Sagrada Familia                 |accommodation |\n",
      "|2011-03-23|2 night stay at this hotel and found it to be very comfortable and stylish for a cheap priced hotel. The staff were very friendly and helpful and the place was spotless. The location was ok bang in the middle of the shopping mile. The metro 5 mins walk star de catyluna (city centre) 30 mins, just remember on the way back its uphill. The bus stops are nearby and if you have a map the bus can take you anywhere. Would reccomend using the touristic bus get a 2 day ticket hop on and off as much as you like its easier than the metro. Back to the hotel will definately be abck later in the year.                                                                                                                                                                                                                                                                                                                                                                                                                                                                                                                                                                                                                                                        |4     |Wilson Boutique Hotel                 |accommodation |\n",
      "|2013-11-06|Definitely my favorite place in Barcleona. Great Staff, great facilities, amazing terrace. Right in the city center!                                                                                                                                                                                                                                                                                                                                                                                                                                                                                                                                                                                                                                                                                                                                                                                                                                                                                                                                                                                                                                                                                                                                                      |5     |Rodamón Hostel                        |accommodation |\n",
      "+----------+--------------------------------------------------------------------------------------------------------------------------------------------------------------------------------------------------------------------------------------------------------------------------------------------------------------------------------------------------------------------------------------------------------------------------------------------------------------------------------------------------------------------------------------------------------------------------------------------------------------------------------------------------------------------------------------------------------------------------------------------------------------------------------------------------------------------------------------------------------------------------------------------------------------------------------------------------------------------------------------------------------------------------------------------------------------------------------------------------------------------------------------------------------------------------------------------------------------------------------------------------------------------------+------+--------------------------------------+--------------+\n",
      "only showing top 20 rows\n",
      "\n"
     ]
    },
    {
     "name": "stderr",
     "output_type": "stream",
     "text": [
      "24/05/20 14:29:21 WARN GarbageCollectionMetrics: To enable non-built-in garbage collector(s) List(G1 Concurrent GC), users should configure it(them) to spark.eventLog.gcMetrics.youngGenerationGarbageCollectors or spark.eventLog.gcMetrics.oldGenerationGarbageCollectors\n"
     ]
    }
   ],
   "source": [
    "sorted_indices = [idx for idx, similarity in sorted_similarities]\n",
    "data_list = post.collect()\n",
    "sorted_data_list = [data_list[idx] for idx in sorted_indices]\n",
    "sorted_post = spark.createDataFrame(sorted_data_list, schema=post.schema)\n",
    "sorted_post.select(\"time\", \"text\", \"rating\", \"place_name\", \"place_category\").show(truncate=False)"
   ]
  }
 ],
 "metadata": {
  "kernelspec": {
   "display_name": "Python 3 (ipykernel)",
   "language": "python",
   "name": "python3"
  },
  "language_info": {
   "codemirror_mode": {
    "name": "ipython",
    "version": 3
   },
   "file_extension": ".py",
   "mimetype": "text/x-python",
   "name": "python",
   "nbconvert_exporter": "python",
   "pygments_lexer": "ipython3",
   "version": "3.11.5"
  }
 },
 "nbformat": 4,
 "nbformat_minor": 5
}
